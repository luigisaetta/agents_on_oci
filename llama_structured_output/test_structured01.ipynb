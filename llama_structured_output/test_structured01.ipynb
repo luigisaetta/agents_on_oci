{
 "cells": [
  {
   "cell_type": "code",
   "execution_count": 1,
   "id": "b2dbeb6d-0979-402b-a8a1-f127dbb18a9e",
   "metadata": {},
   "outputs": [],
   "source": [
    "from pydantic import BaseModel\n",
    "from langchain_core.output_parsers import PydanticOutputParser\n",
    "\n",
    "from structured_llm import StructuredLLM"
   ]
  },
  {
   "cell_type": "code",
   "execution_count": 2,
   "id": "df658d76-464a-4aba-a304-e9adca4080dc",
   "metadata": {},
   "outputs": [
    {
     "name": "stdout",
     "output_type": "stream",
     "text": [
      "The output should be formatted as a JSON instance that conforms to the JSON schema below.\n",
      "\n",
      "As an example, for the schema {\"properties\": {\"foo\": {\"title\": \"Foo\", \"description\": \"a list of strings\", \"type\": \"array\", \"items\": {\"type\": \"string\"}}}, \"required\": [\"foo\"]}\n",
      "the object {\"foo\": [\"bar\", \"baz\"]} is a well-formatted instance of the schema. The object {\"properties\": {\"foo\": [\"bar\", \"baz\"]}} is not well-formatted.\n",
      "\n",
      "Here is the output schema:\n",
      "```\n",
      "{\"properties\": {\"setup\": {\"title\": \"Setup\", \"type\": \"string\"}, \"punchline\": {\"title\": \"Punchline\", \"type\": \"string\"}}, \"required\": [\"setup\", \"punchline\"]}\n",
      "```\n"
     ]
    }
   ],
   "source": [
    "class JokeResponse(BaseModel):\n",
    "    setup: str\n",
    "    punchline: str\n",
    "\n",
    "\n",
    "parser = PydanticOutputParser(pydantic_object=JokeResponse)\n",
    "print(parser.get_format_instructions())"
   ]
  },
  {
   "cell_type": "code",
   "execution_count": 3,
   "id": "c9812f38-fdc3-4271-8c66-618ba3576b8d",
   "metadata": {},
   "outputs": [],
   "source": [
    "structured_llm = StructuredLLM(model=JokeResponse)"
   ]
  },
  {
   "cell_type": "code",
   "execution_count": 4,
   "id": "a7a70634-6db6-484b-b779-9b9301dab681",
   "metadata": {},
   "outputs": [
    {
     "name": "stdout",
     "output_type": "stream",
     "text": [
      "setup='Why do Python programmers prefer dark mode?' punchline='Because light attracts bugs.'\n"
     ]
    }
   ],
   "source": [
    "response = structured_llm.invoke(\"Tell me a joke about Python programming.\")\n",
    "print(response)"
   ]
  },
  {
   "cell_type": "code",
   "execution_count": 5,
   "id": "9b3fbefd-3e7e-4d11-9ba1-e337b0fce8f1",
   "metadata": {},
   "outputs": [
    {
     "data": {
      "text/plain": [
       "'Because light attracts bugs.'"
      ]
     },
     "execution_count": 5,
     "metadata": {},
     "output_type": "execute_result"
    }
   ],
   "source": [
    "response.punchline"
   ]
  },
  {
   "cell_type": "code",
   "execution_count": null,
   "id": "e90e5da3-106f-4a49-b106-8378b32d6fc1",
   "metadata": {},
   "outputs": [],
   "source": []
  }
 ],
 "metadata": {
  "kernelspec": {
   "display_name": "Python 3 (ipykernel)",
   "language": "python",
   "name": "python3"
  },
  "language_info": {
   "codemirror_mode": {
    "name": "ipython",
    "version": 3
   },
   "file_extension": ".py",
   "mimetype": "text/x-python",
   "name": "python",
   "nbconvert_exporter": "python",
   "pygments_lexer": "ipython3",
   "version": "3.11.0"
  }
 },
 "nbformat": 4,
 "nbformat_minor": 5
}
