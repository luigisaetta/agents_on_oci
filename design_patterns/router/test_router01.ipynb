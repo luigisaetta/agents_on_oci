{
 "cells": [
  {
   "cell_type": "code",
   "execution_count": 1,
   "id": "b2dbeb6d-0979-402b-a8a1-f127dbb18a9e",
   "metadata": {},
   "outputs": [],
   "source": [
    "from pydantic import BaseModel\n",
    "from typing import Optional, Literal\n",
    "from langchain_core.output_parsers import PydanticOutputParser\n",
    "\n",
    "from router import Router"
   ]
  },
  {
   "cell_type": "code",
   "execution_count": 2,
   "id": "df658d76-464a-4aba-a304-e9adca4080dc",
   "metadata": {},
   "outputs": [],
   "source": [
    "# this class define the schema to follow for the output\n",
    "class State(BaseModel):\n",
    "    \"\"\"\n",
    "    Defines the internal state of the agent.\n",
    "    \"\"\"\n",
    "\n",
    "    input: str\n",
    "\n",
    "    # here the enumeration of possible next steps\n",
    "    # important to make optional: at the beginning of the flow it is undefined\n",
    "    decision: Optional[\n",
    "        Literal[\"meetings_info\", \"places_info\", \"not_defined\", \"set_meeting\"]\n",
    "    ] = None\n",
    "    output: str = \"\"\n",
    "\n",
    "\n",
    "# just to see what is generated\n",
    "# parser = PydanticOutputParser(pydantic_object=State)\n",
    "# print(parser.get_format_instructions())"
   ]
  },
  {
   "cell_type": "code",
   "execution_count": 3,
   "id": "c9812f38-fdc3-4271-8c66-618ba3576b8d",
   "metadata": {},
   "outputs": [],
   "source": [
    "router = Router(State)"
   ]
  },
  {
   "cell_type": "code",
   "execution_count": 4,
   "id": "a7a70634-6db6-484b-b779-9b9301dab681",
   "metadata": {},
   "outputs": [
    {
     "name": "stdout",
     "output_type": "stream",
     "text": [
      "input='I want to setup a meeting' decision='set_meeting' output=''\n"
     ]
    }
   ],
   "source": [
    "state = State(input=\"I want to setup a meeting\")\n",
    "\n",
    "response = router.route(state)\n",
    "print(response)"
   ]
  },
  {
   "cell_type": "code",
   "execution_count": 5,
   "id": "e90e5da3-106f-4a49-b106-8378b32d6fc1",
   "metadata": {},
   "outputs": [],
   "source": [
    "queries = [\n",
    "    \"I want information about restaurants in London\",\n",
    "    \"I need the list of the meetings of last week\",\n",
    "    \"When I have one hour free next week?\",\n",
    "    \"I want to know what I don't know\",\n",
    "    \"When in this week I will be free for lunch/dinner?\",\n",
    "    \"Give me all the free slot for 2025-02-28\",\n",
    "    \"Give me all the available slot for 2025-02-26\",\n",
    "    \"Please book a meeting slot for 2025-03-10 11 AM\",\n",
    "    \"Set a meeting with Ansh for today 11 AM\",\n",
    "    \"Arrange a meeting with Ansh for next tuesday\",\n",
    "]"
   ]
  },
  {
   "cell_type": "code",
   "execution_count": 6,
   "id": "d5b15b6b-6de3-4214-85ae-6623f1aba71f",
   "metadata": {},
   "outputs": [
    {
     "name": "stdout",
     "output_type": "stream",
     "text": [
      "\n",
      "I want information about restaurants in London\n",
      "next step is:  places_info\n",
      "\n",
      "I need the list of the meetings of last week\n",
      "next step is:  meetings_info\n",
      "\n",
      "When I have one hour free next week?\n",
      "next step is:  meetings_info\n",
      "\n",
      "I want to know what I don't know\n",
      "next step is:  not_defined\n",
      "\n",
      "When in this week I will be free for lunch/dinner?\n",
      "next step is:  not_defined\n",
      "\n",
      "Give me all the free slot for 2025-02-28\n",
      "next step is:  set_meeting\n",
      "\n",
      "Give me all the available slot for 2025-02-26\n",
      "next step is:  meetings_info\n",
      "\n",
      "Please book a meeting slot for 2025-03-10 11 AM\n",
      "next step is:  set_meeting\n",
      "\n",
      "Set a meeting with Ansh for today 11 AM\n",
      "next step is:  set_meeting\n",
      "\n",
      "Arrange a meeting with Ansh for next tuesday\n",
      "next step is:  set_meeting\n"
     ]
    }
   ],
   "source": [
    "for query in queries:\n",
    "    print(\"\")\n",
    "    print(query)\n",
    "\n",
    "    response = router.route(State(input=query))\n",
    "    print(\"next step is: \", response.decision)"
   ]
  },
  {
   "cell_type": "markdown",
   "id": "25b9e24c-b0d1-47a3-92c1-6d99a169f6df",
   "metadata": {},
   "source": [
    "#### Try with some examples\n",
    "\n",
    "* Here we show how to pass few examples to improve decision\n",
    "* In this way I tell alsoe to the model to set only decision and not output"
   ]
  },
  {
   "cell_type": "code",
   "execution_count": 7,
   "id": "a98ae1fc-da2b-4c03-9652-89ba0f6f6a23",
   "metadata": {},
   "outputs": [],
   "source": [
    "few_shots = [\n",
    "    {\n",
    "        \"input\": \"When in this week I will be free for lunch/dinner?\",\n",
    "        \"output\": {\"decision\": \"meeting_info\", \"output\": \"\"},\n",
    "    },\n",
    "    {\n",
    "        \"input\": \"Can you arrange a meeting with Alex and Martijn??\",\n",
    "        \"output\": {\"decision\": \"set_meeting\", \"output\": \"\"},\n",
    "    },\n",
    "]"
   ]
  },
  {
   "cell_type": "code",
   "execution_count": 8,
   "id": "c0b2aad1-7c28-4fef-9f55-5a706a624183",
   "metadata": {},
   "outputs": [
    {
     "data": {
      "text/plain": [
       "[{'input': 'When in this week I will be free for lunch/dinner?',\n",
       "  'output': {'decision': 'meeting_info', 'output': ''}},\n",
       " {'input': 'Can you arrange a meeting with Alex and Martijn??',\n",
       "  'output': {'decision': 'set_meeting', 'output': ''}}]"
      ]
     },
     "execution_count": 8,
     "metadata": {},
     "output_type": "execute_result"
    }
   ],
   "source": [
    "few_shots"
   ]
  },
  {
   "cell_type": "code",
   "execution_count": 9,
   "id": "d4706dc0-8f9c-4636-8a25-9716da22f9cb",
   "metadata": {},
   "outputs": [],
   "source": [
    "router = Router(model=State, few_shot_examples=few_shots)"
   ]
  },
  {
   "cell_type": "code",
   "execution_count": 10,
   "id": "e91a8e5f-d49d-4aba-bf4c-d191edfcd9fd",
   "metadata": {},
   "outputs": [
    {
     "name": "stdout",
     "output_type": "stream",
     "text": [
      "\n",
      "I want information about restaurants in London\n",
      "next step is:  places_info\n",
      "\n",
      "I need the list of the meetings of last week\n",
      "next step is:  meetings_info\n",
      "\n",
      "When I have one hour free next week?\n",
      "next step is:  meetings_info\n",
      "\n",
      "I want to know what I don't know\n",
      "next step is:  not_defined\n",
      "\n",
      "When in this week I will be free for lunch/dinner?\n",
      "next step is:  meetings_info\n",
      "\n",
      "Give me all the free slot for 2025-02-28\n",
      "next step is:  meetings_info\n",
      "\n",
      "Give me all the available slot for 2025-02-26\n",
      "next step is:  meetings_info\n",
      "\n",
      "Please book a meeting slot for 2025-03-10 11 AM\n",
      "next step is:  set_meeting\n",
      "\n",
      "Set a meeting with Ansh for today 11 AM\n",
      "next step is:  set_meeting\n",
      "\n",
      "Arrange a meeting with Ansh for next tuesday\n",
      "next step is:  set_meeting\n"
     ]
    }
   ],
   "source": [
    "for query in queries:\n",
    "    print(\"\")\n",
    "    print(query)\n",
    "\n",
    "    response = router.route(State(input=query))\n",
    "    print(\"next step is: \", response.decision)"
   ]
  },
  {
   "cell_type": "code",
   "execution_count": null,
   "id": "04858be1-2c05-479c-83ab-969159d1cb8f",
   "metadata": {},
   "outputs": [],
   "source": []
  }
 ],
 "metadata": {
  "kernelspec": {
   "display_name": "Python 3 (ipykernel)",
   "language": "python",
   "name": "python3"
  },
  "language_info": {
   "codemirror_mode": {
    "name": "ipython",
    "version": 3
   },
   "file_extension": ".py",
   "mimetype": "text/x-python",
   "name": "python",
   "nbconvert_exporter": "python",
   "pygments_lexer": "ipython3",
   "version": "3.11.0"
  }
 },
 "nbformat": 4,
 "nbformat_minor": 5
}
