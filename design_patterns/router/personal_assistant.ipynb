{
 "cells": [
  {
   "cell_type": "code",
   "execution_count": 1,
   "id": "b32879ba-d115-490e-9a95-4a8df40794ac",
   "metadata": {},
   "outputs": [],
   "source": [
    "from pydantic import BaseModel\n",
    "from typing import Optional, Literal\n",
    "from langchain_core.output_parsers import PydanticOutputParser\n",
    "from langgraph.graph import StateGraph, START, END\n",
    "\n",
    "from IPython.display import Image, display, Markdown\n",
    "\n",
    "from router import Router\n",
    "from not_defined import NotDefined\n",
    "from meetings_info import MeetingsInfo\n",
    "from places_info import PlacesInfo\n",
    "from set_meeting import SetMeeting\n",
    "from aggregator import Aggregator\n",
    "\n",
    "from utils import get_console_logger"
   ]
  },
  {
   "cell_type": "code",
   "execution_count": 2,
   "id": "51d05dec-4623-4109-aa4c-98fba0c250c8",
   "metadata": {},
   "outputs": [],
   "source": [
    "# logging\n",
    "logger = get_console_logger()"
   ]
  },
  {
   "cell_type": "code",
   "execution_count": 3,
   "id": "8ad00eca-b69c-4ca7-8b73-db56c784ce15",
   "metadata": {},
   "outputs": [],
   "source": [
    "# this class define the schema to follow for the output\n",
    "class State(BaseModel):\n",
    "    \"\"\"\n",
    "    Defines the internal state of the agent.\n",
    "    \"\"\"\n",
    "\n",
    "    input: str\n",
    "\n",
    "    # here the enumeration of possible next steps\n",
    "    # important to make optional: at the beginning of the flow it is undefined\n",
    "    decision: Optional[\n",
    "        Literal[\"meetings_info\", \"places_info\", \"set_meeting\", \"not_defined\"]\n",
    "    ] = None\n",
    "    output: str = \"\""
   ]
  },
  {
   "cell_type": "code",
   "execution_count": 4,
   "id": "3e99ca7d-4e42-4a7e-b0f4-7f9de731139b",
   "metadata": {},
   "outputs": [],
   "source": [
    "#\n",
    "# adding few shots to improve the accuracy of decisions in routing\n",
    "#\n",
    "few_shots = [\n",
    "    {\n",
    "        \"input\": \"When in this week I will be free for lunch/dinner?\",\n",
    "        \"output\": {\"decision\": \"meeting_info\", \"output\": \"\"},\n",
    "    },\n",
    "    {\n",
    "        \"input\": \"Can you arrange a meeting with Alex and Martijn??\",\n",
    "        \"output\": {\"decision\": \"set_meeting\", \"output\": \"\"},\n",
    "    },\n",
    "]\n",
    "\n",
    "router = Router(model=State, few_shot_examples=few_shots)"
   ]
  },
  {
   "cell_type": "markdown",
   "id": "7b5b0bd3-984c-4997-9f07-173d72c1bfd3",
   "metadata": {},
   "source": [
    "#### Test the routing"
   ]
  },
  {
   "cell_type": "code",
   "execution_count": 5,
   "id": "265f7dc6-7e4a-4fee-9117-6e1c10151652",
   "metadata": {},
   "outputs": [],
   "source": [
    "queries = [\n",
    "    \"I want information about restaurants in London\",\n",
    "    \"I need the list of the meetings of last week\",\n",
    "    \"When I have one hour free next week?\",\n",
    "    \"I want to know what I don't know\",\n",
    "    \"When in this week I will be free for lunch/dinner?\",\n",
    "    \"Give me all the free slot for 2025-02-28\",\n",
    "    \"Give me all the available slot for 2025-02-26\",\n",
    "    \"Please book a meeting slot for 2025-03-10 11 AM\",\n",
    "    \"Set a meeting with Ansh for today 11 AM\",\n",
    "    \"Arrange a meeting with Ansh for next tuesday\",\n",
    "]"
   ]
  },
  {
   "cell_type": "code",
   "execution_count": 6,
   "id": "f8246109-ba40-4807-9a13-1b86305ae8ba",
   "metadata": {},
   "outputs": [
    {
     "name": "stdout",
     "output_type": "stream",
     "text": [
      "\n",
      "I want information about restaurants in London\n",
      "next step is:  places_info\n",
      "\n",
      "I need the list of the meetings of last week\n",
      "next step is:  meetings_info\n",
      "\n",
      "When I have one hour free next week?\n",
      "next step is:  meetings_info\n",
      "\n",
      "I want to know what I don't know\n",
      "next step is:  not_defined\n",
      "\n",
      "When in this week I will be free for lunch/dinner?\n",
      "next step is:  meetings_info\n",
      "\n",
      "Give me all the free slot for 2025-02-28\n",
      "next step is:  meetings_info\n",
      "\n",
      "Give me all the available slot for 2025-02-26\n",
      "next step is:  meetings_info\n",
      "\n",
      "Please book a meeting slot for 2025-03-10 11 AM\n",
      "next step is:  set_meeting\n",
      "\n",
      "Set a meeting with Ansh for today 11 AM\n",
      "next step is:  set_meeting\n",
      "\n",
      "Arrange a meeting with Ansh for next tuesday\n",
      "next step is:  set_meeting\n"
     ]
    }
   ],
   "source": [
    "for query in queries:\n",
    "    print(\"\")\n",
    "    print(query)\n",
    "\n",
    "    response = router.route(State(input=query))\n",
    "    print(\"next step is: \", response.decision)"
   ]
  },
  {
   "cell_type": "markdown",
   "id": "e28c839d-0410-497b-8aca-5ab043887b31",
   "metadata": {},
   "source": [
    "### Define the agent"
   ]
  },
  {
   "cell_type": "code",
   "execution_count": 7,
   "id": "c591bd9a-9234-4eb9-ad8f-d8b60d74fd4d",
   "metadata": {},
   "outputs": [],
   "source": [
    "# Conditional edge function to route to the appropriate node\n",
    "def route_decision(state: State):\n",
    "    \"\"\"\n",
    "    return only the next step name\n",
    "    \"\"\"\n",
    "    return state.decision\n",
    "\n",
    "\n",
    "# Build workflow graph\n",
    "agent_builder = StateGraph(State)\n",
    "\n",
    "# create the nodes with logic\n",
    "meetings_info = MeetingsInfo()\n",
    "places_info = PlacesInfo()\n",
    "not_defined = NotDefined()\n",
    "set_meeting = SetMeeting()\n",
    "aggregator = Aggregator()\n",
    "\n",
    "# Add nodes\n",
    "agent_builder.add_node(\"meetings_info\", meetings_info)\n",
    "agent_builder.add_node(\"places_info\", places_info)\n",
    "agent_builder.add_node(\"not_defined\", not_defined)\n",
    "agent_builder.add_node(\"set_meeting\", set_meeting)\n",
    "\n",
    "\n",
    "agent_builder.add_node(\"aggregator\", aggregator)\n",
    "agent_builder.add_node(\"router\", router.route)\n",
    "\n",
    "# Add edges to connect nodes\n",
    "agent_builder.add_edge(START, \"router\")\n",
    "\n",
    "agent_builder.add_conditional_edges(\n",
    "    \"router\",\n",
    "    route_decision,\n",
    "    {  # Name returned by route_decision : Name of next node to visit\n",
    "        \"places_info\": \"places_info\",\n",
    "        \"meetings_info\": \"meetings_info\",\n",
    "        \"set_meeting\": \"set_meeting\",\n",
    "        \"not_defined\": \"not_defined\",\n",
    "    },\n",
    ")\n",
    "\n",
    "agent_builder.add_edge(\"places_info\", \"aggregator\")\n",
    "agent_builder.add_edge(\"meetings_info\", \"aggregator\")\n",
    "agent_builder.add_edge(\"not_defined\", \"aggregator\")\n",
    "agent_builder.add_edge(\"set_meeting\", \"aggregator\")\n",
    "\n",
    "agent_builder.add_edge(\"aggregator\", END)\n",
    "\n",
    "# Compile workflow\n",
    "personal_agent = agent_builder.compile()"
   ]
  },
  {
   "cell_type": "code",
   "execution_count": 8,
   "id": "07bb2b83-dbd7-44b9-8392-f6c68dc9be5b",
   "metadata": {},
   "outputs": [
    {
     "data": {
      "image/png": "[encoded data removed]",
      "text/plain": [
       "<IPython.core.display.Image object>"
      ]
     },
     "metadata": {},
     "output_type": "display_data"
    }
   ],
   "source": [
    "# Show the workflow\n",
    "display(Image(personal_agent.get_graph().draw_mermaid_png()))"
   ]
  },
  {
   "cell_type": "code",
   "execution_count": 9,
   "id": "9a859a41-6c85-4b80-8f8d-b1ebcd417bda",
   "metadata": {},
   "outputs": [],
   "source": [
    "# function to simplify the tests\n",
    "def test_workflow(query: str):\n",
    "    outcome = personal_agent.invoke({\"input\": query})\n",
    "\n",
    "    return outcome[\"output\"]"
   ]
  },
  {
   "cell_type": "code",
   "execution_count": 10,
   "id": "05b20c8b-f27c-4455-9c25-dff088ebbb2d",
   "metadata": {},
   "outputs": [
    {
     "name": "stderr",
     "output_type": "stream",
     "text": [
      "2025-03-04 10:31:09,090 - Calling MeetingsInfo\n",
      "2025-03-04 10:31:09,790 - Calling Aggregator\n",
      "2025-03-04 10:31:09,791 - aggregator: Aggregating outputs...\n"
     ]
    },
    {
     "name": "stdout",
     "output_type": "stream",
     "text": [
      "\n",
      "Free meetings slots found:\n"
     ]
    },
    {
     "data": {
      "text/markdown": [
       "{'2025-02-26': ['8:00 - 13:00', '15:00 - 18:00']}"
      ],
      "text/plain": [
       "<IPython.core.display.Markdown object>"
      ]
     },
     "metadata": {},
     "output_type": "display_data"
    }
   ],
   "source": [
    "query = \"\"\"Give me all the free slot for 2025-02-26\"\"\"\n",
    "\n",
    "outcome = test_workflow(query)\n",
    "\n",
    "print(\"\")\n",
    "print(\"Free meetings slots found:\")\n",
    "display(Markdown(outcome))"
   ]
  },
  {
   "cell_type": "code",
   "execution_count": 11,
   "id": "e2c11634-a655-43a3-bd24-5f93ad333361",
   "metadata": {},
   "outputs": [
    {
     "name": "stderr",
     "output_type": "stream",
     "text": [
      "2025-03-04 10:31:12,124 - Calling MeetingsInfo\n",
      "2025-03-04 10:31:12,805 - Calling Aggregator\n",
      "2025-03-04 10:31:12,807 - aggregator: Aggregating outputs...\n"
     ]
    },
    {
     "name": "stdout",
     "output_type": "stream",
     "text": [
      "\n",
      "Free meetings slots found:\n",
      "{'2025-03-09': ['8:00 - 13:00', '15:00 - 18:00']}\n"
     ]
    }
   ],
   "source": [
    "query = \"\"\"Show me the free slot for 2025-03-09\"\"\"\n",
    "\n",
    "outcome = test_workflow(query)\n",
    "\n",
    "print(\"\")\n",
    "print(\"Free meetings slots found:\")\n",
    "print(outcome)"
   ]
  },
  {
   "cell_type": "code",
   "execution_count": 12,
   "id": "69dcf036-00db-4cdf-9240-03ff3160563b",
   "metadata": {},
   "outputs": [
    {
     "name": "stderr",
     "output_type": "stream",
     "text": [
      "2025-03-04 10:31:15,331 - Calling NotDefined\n",
      "2025-03-04 10:31:18,135 - Calling Aggregator\n",
      "2025-03-04 10:31:18,136 - aggregator: Aggregating outputs...\n"
     ]
    },
    {
     "name": "stdout",
     "output_type": "stream",
     "text": [
      "\n"
     ]
    },
    {
     "data": {
      "text/markdown": [
       "### User Question\n",
       "You have stated that you don't know what to ask for.\n",
       "\n",
       "### Assistance\n",
       "To better assist you, could you please provide more context or information about the topic or area you are interested in? This will help me narrow down the possibilities and provide more tailored guidance on what you can ask for.\n",
       "\n",
       "Some examples of areas where you might need assistance include:\n",
       "* General knowledge or trivia\n",
       "* Technical support or troubleshooting\n",
       "* Language translation or interpretation\n",
       "* Education or learning resources\n",
       "* Entertainment or leisure activities\n",
       "\n",
       "Please provide more details or clarify your interests, and I will do my best to help you formulate a specific question or request."
      ],
      "text/plain": [
       "<IPython.core.display.Markdown object>"
      ]
     },
     "metadata": {},
     "output_type": "display_data"
    }
   ],
   "source": [
    "query = \"\"\"I don't know what to ask for\"\"\"\n",
    "\n",
    "outcome = test_workflow(query)\n",
    "\n",
    "print(\"\")\n",
    "display(Markdown(outcome))"
   ]
  },
  {
   "cell_type": "code",
   "execution_count": 13,
   "id": "f8747d23-71fe-4298-8757-0cdd7a60e317",
   "metadata": {},
   "outputs": [
    {
     "name": "stderr",
     "output_type": "stream",
     "text": [
      "2025-03-04 10:31:19,065 - Calling PlacesInfo\n",
      "2025-03-04 10:31:25,441 - Calling Aggregator\n",
      "2025-03-04 10:31:25,443 - aggregator: Aggregating outputs...\n"
     ]
    },
    {
     "name": "stdout",
     "output_type": "stream",
     "text": [
      "\n"
     ]
    },
    {
     "data": {
      "text/markdown": [
       "### Introduction to Chinese Restaurants in Rome\n",
       "Rome, the capital city of Italy, is known for its rich culinary scene, which includes a variety of international cuisines, such as Chinese. To provide an accurate answer, I would need more information about your preferences, such as location, price range, and type of Chinese cuisine. However, I can give you a general overview of some highly-recommended Chinese restaurants in Rome.\n",
       "\n",
       "### Top 5 Chinese Restaurants in Rome\n",
       "Based on available reviews and ratings, here are five Chinese restaurants in Rome that are worth considering:\n",
       "1. **Ristorante Cina**: Known for its traditional Chinese dishes and cozy atmosphere.\n",
       "2. **Jin Yan**: Offers a wide range of Chinese cuisine, including Szechuan and Cantonese options.\n",
       "3. **Ristorante Grande Muro**: Provides an extensive menu with a variety of Chinese dishes, including vegetarian and vegan options.\n",
       "4. **Taverna Cina**: A popular spot for Chinese food, with a focus on traditional dishes and a lively atmosphere.\n",
       "5. **Ristorante Peking**: Specializes in Peking-style cuisine, including the famous Peking duck.\n",
       "\n",
       "### Additional Information Needed\n",
       "To give you a more tailored answer, could you please provide more information about your preferences, such as:\n",
       "* Location: Are you looking for restaurants in a specific area of Rome?\n",
       "* Price range: Are you looking for budget-friendly options or high-end restaurants?\n",
       "* Type of Chinese cuisine: Are you interested in a specific type of Chinese cuisine, such as Szechuan or Cantonese?\n",
       "\n",
       "With more information, I can provide a more detailed and personalized answer to your question."
      ],
      "text/plain": [
       "<IPython.core.display.Markdown object>"
      ]
     },
     "metadata": {},
     "output_type": "display_data"
    }
   ],
   "source": [
    "query = \"\"\"What are the top 5 chinese restaurants in Rome?\"\"\"\n",
    "\n",
    "outcome = test_workflow(query)\n",
    "\n",
    "print(\"\")\n",
    "display(Markdown(outcome))"
   ]
  },
  {
   "cell_type": "markdown",
   "id": "a211e5e6-1631-4cf2-a811-6883b751d10b",
   "metadata": {},
   "source": [
    "### Set Meeting"
   ]
  },
  {
   "cell_type": "code",
   "execution_count": 14,
   "id": "0a75e41a-bd32-4d17-afcb-d340b96b6960",
   "metadata": {},
   "outputs": [
    {
     "name": "stderr",
     "output_type": "stream",
     "text": [
      "2025-03-04 10:31:26,363 - Calling MeetingsInfo\n",
      "2025-03-04 10:31:27,060 - Calling Aggregator\n",
      "2025-03-04 10:31:27,066 - aggregator: Aggregating outputs...\n"
     ]
    },
    {
     "name": "stdout",
     "output_type": "stream",
     "text": [
      "\n",
      "Free meetings slots found:\n",
      "{'2025-03-09': ['8:00 - 13:00', '15:00 - 18:00']}\n"
     ]
    }
   ],
   "source": [
    "query = \"\"\"Show me the free slot for 2025-03-09\"\"\"\n",
    "\n",
    "outcome = test_workflow(query)\n",
    "\n",
    "print(\"\")\n",
    "print(\"Free meetings slots found:\")\n",
    "print(outcome)"
   ]
  },
  {
   "cell_type": "code",
   "execution_count": 15,
   "id": "f90b0245-b5aa-4f01-82d3-1955ca9b7c8f",
   "metadata": {},
   "outputs": [
    {
     "name": "stderr",
     "output_type": "stream",
     "text": [
      "2025-03-04 10:31:28,037 - Calling SetMeeting\n",
      "2025-03-04 10:31:28,952 - Calling Aggregator\n",
      "2025-03-04 10:31:28,953 - aggregator: Aggregating outputs...\n"
     ]
    },
    {
     "name": "stdout",
     "output_type": "stream",
     "text": [
      "date='2025-03-09' start_hour='10:00' end_hour='11:00'\n",
      "\n"
     ]
    },
    {
     "data": {
      "text/markdown": [
       "meeting set on 2025-03-09 from 10:00 to 11:00"
      ],
      "text/plain": [
       "<IPython.core.display.Markdown object>"
      ]
     },
     "metadata": {},
     "output_type": "display_data"
    }
   ],
   "source": [
    "query = \"\"\"Set a meeting for 9 march 2025 start at 10 end at 11\"\"\"\n",
    "\n",
    "outcome = test_workflow(query)\n",
    "\n",
    "print(\"\")\n",
    "display(Markdown(outcome))"
   ]
  },
  {
   "cell_type": "code",
   "execution_count": 16,
   "id": "60572748-cb71-49a4-b0a8-9baa7a7fec01",
   "metadata": {},
   "outputs": [
    {
     "name": "stderr",
     "output_type": "stream",
     "text": [
      "2025-03-04 10:31:29,903 - Calling MeetingsInfo\n",
      "2025-03-04 10:31:30,608 - Calling Aggregator\n",
      "2025-03-04 10:31:30,609 - aggregator: Aggregating outputs...\n"
     ]
    },
    {
     "name": "stdout",
     "output_type": "stream",
     "text": [
      "\n",
      "Free meetings slots found:\n",
      "{'2025-03-09': ['8:00 - 10:00', '11:00 - 13:00', '15:00 - 18:00']}\n"
     ]
    }
   ],
   "source": [
    "query = \"\"\"Ok, then please Show me the free slot for 2025-03-09\"\"\"\n",
    "\n",
    "outcome = test_workflow(query)\n",
    "\n",
    "print(\"\")\n",
    "print(\"Free meetings slots found:\")\n",
    "print(outcome)"
   ]
  },
  {
   "cell_type": "code",
   "execution_count": null,
   "id": "97f3f11b-37df-4411-ab24-2256c6d6111c",
   "metadata": {},
   "outputs": [],
   "source": []
  }
 ],
 "metadata": {
  "kernelspec": {
   "display_name": "Python 3 (ipykernel)",
   "language": "python",
   "name": "python3"
  },
  "language_info": {
   "codemirror_mode": {
    "name": "ipython",
    "version": 3
   },
   "file_extension": ".py",
   "mimetype": "text/x-python",
   "name": "python",
   "nbconvert_exporter": "python",
   "pygments_lexer": "ipython3",
   "version": "3.11.0"
  }
 },
 "nbformat": 4,
 "nbformat_minor": 5
}
