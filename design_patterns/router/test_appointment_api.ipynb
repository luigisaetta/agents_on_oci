{
 "cells": [
  {
   "cell_type": "code",
   "execution_count": 2,
   "id": "e47a3d51-b195-4873-984e-825a651175b6",
   "metadata": {},
   "outputs": [],
   "source": [
    "# appointments dict is the memory structure, the DB of meetings\n",
    "from meetings_api import appointments_dict, find_free_slots, set_appointment"
   ]
  },
  {
   "cell_type": "code",
   "execution_count": 4,
   "id": "3e822488-bf1d-4e06-a3db-6459a489e9a4",
   "metadata": {},
   "outputs": [
    {
     "data": {
      "text/plain": [
       "{'2025-02-01': ['8:00 - 9:00', '10:00 - 18:00'],\n",
       " '2025-02-02': ['8:00 - 18:00'],\n",
       " '2025-02-03': ['8:00 - 11:00', '13:00 - 18:00']}"
      ]
     },
     "execution_count": 4,
     "metadata": {},
     "output_type": "execute_result"
    }
   ],
   "source": [
    "free_slots = find_free_slots(appointments_dict[\"appointments\"], start_date=\"2025-02-01\", end_date=\"2025-02-03\")\n",
    "\n",
    "free_slots"
   ]
  },
  {
   "cell_type": "code",
   "execution_count": 5,
   "id": "9143faa5-a6a0-470a-8ff7-6550bad1048b",
   "metadata": {},
   "outputs": [
    {
     "data": {
      "text/plain": [
       "'✅ Appointment set on 2025-02-01 from 11:00 to 12:00.'"
      ]
     },
     "execution_count": 5,
     "metadata": {},
     "output_type": "execute_result"
    }
   ],
   "source": [
    "set_appointment(date=\"2025-02-01\", start_time=\"11:00\", end_time=\"12:00\", participants=[\"Luigi\", \"Marc\"], notes=\"\")"
   ]
  },
  {
   "cell_type": "code",
   "execution_count": 6,
   "id": "d8536002-8c44-4124-9627-103a149966ad",
   "metadata": {},
   "outputs": [
    {
     "data": {
      "text/plain": [
       "{'2025-02-01': ['8:00 - 9:00', '10:00 - 11:00', '12:00 - 18:00'],\n",
       " '2025-02-02': ['8:00 - 18:00'],\n",
       " '2025-02-03': ['8:00 - 11:00', '13:00 - 18:00']}"
      ]
     },
     "execution_count": 6,
     "metadata": {},
     "output_type": "execute_result"
    }
   ],
   "source": [
    "free_slots = find_free_slots(appointments_dict[\"appointments\"], start_date=\"2025-02-01\", end_date=\"2025-02-03\")\n",
    "\n",
    "free_slots"
   ]
  },
  {
   "cell_type": "code",
   "execution_count": 7,
   "id": "af918e5d-9083-4b2d-aa31-12c66a1b941a",
   "metadata": {},
   "outputs": [
    {
     "data": {
      "text/plain": [
       "'✅ Appointment set on 2025-02-02 from 11:00 to 12:00.'"
      ]
     },
     "execution_count": 7,
     "metadata": {},
     "output_type": "execute_result"
    }
   ],
   "source": [
    "set_appointment(date=\"2025-02-02\", start_time=\"11:00\", end_time=\"12:00\", participants=[\"Luigi\", \"Marc\"], notes=\"\")"
   ]
  },
  {
   "cell_type": "code",
   "execution_count": 8,
   "id": "9f8dae6a-3046-40b2-a994-caaa61590e56",
   "metadata": {},
   "outputs": [
    {
     "data": {
      "text/plain": [
       "{'2025-02-01': ['8:00 - 9:00', '10:00 - 11:00', '12:00 - 18:00'],\n",
       " '2025-02-02': ['8:00 - 11:00', '12:00 - 18:00'],\n",
       " '2025-02-03': ['8:00 - 11:00', '13:00 - 18:00']}"
      ]
     },
     "execution_count": 8,
     "metadata": {},
     "output_type": "execute_result"
    }
   ],
   "source": [
    "free_slots = find_free_slots(appointments_dict[\"appointments\"], start_date=\"2025-02-01\", end_date=\"2025-02-03\")\n",
    "\n",
    "free_slots"
   ]
  },
  {
   "cell_type": "code",
   "execution_count": null,
   "id": "a355e059-6775-496c-bbf5-5dd6363aeef9",
   "metadata": {},
   "outputs": [],
   "source": []
  }
 ],
 "metadata": {
  "kernelspec": {
   "display_name": "Python 3 (ipykernel)",
   "language": "python",
   "name": "python3"
  },
  "language_info": {
   "codemirror_mode": {
    "name": "ipython",
    "version": 3
   },
   "file_extension": ".py",
   "mimetype": "text/x-python",
   "name": "python",
   "nbconvert_exporter": "python",
   "pygments_lexer": "ipython3",
   "version": "3.11.0"
  }
 },
 "nbformat": 4,
 "nbformat_minor": 5
}
