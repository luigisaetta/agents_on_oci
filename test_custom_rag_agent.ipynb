{
 "cells": [
  {
   "cell_type": "markdown",
   "id": "3062ebab-d20a-44de-81a4-ae9ab379ee24",
   "metadata": {},
   "source": [
    "### Custom RAG Agent\n",
    "How to use the custom RAG agent\n",
    "\n",
    "Based on:\n",
    "* OCI GenAI\n",
    "* 23AI\n",
    "* Langchain\n",
    "* updated using Llama 3.3 70B (10/02/2024)"
   ]
  },
  {
   "cell_type": "code",
   "execution_count": 1,
   "id": "3665fade-c82e-4cec-a342-8d9db1dc9c49",
   "metadata": {},
   "outputs": [],
   "source": [
    "from IPython.display import display, Markdown\n",
    "from oci_custom_rag_agent import OCICustomRAGagent"
   ]
  },
  {
   "cell_type": "code",
   "execution_count": 2,
   "id": "041e4fb9-da45-4074-82f9-606e441944e6",
   "metadata": {},
   "outputs": [],
   "source": [
    "rag_agent = OCICustomRAGagent(should_stream=False)"
   ]
  },
  {
   "cell_type": "code",
   "execution_count": 3,
   "id": "dab9dac9-56e9-4470-a5b2-6294ad86fdb4",
   "metadata": {},
   "outputs": [
    {
     "name": "stderr",
     "output_type": "stream",
     "text": [
      "2025-02-10 16:01:54,874 - Session da5cffe5-1256-4a70-8274-def18804526f created.\n"
     ]
    }
   ],
   "source": [
    "SESSION_ID = rag_agent.create_session()"
   ]
  },
  {
   "cell_type": "code",
   "execution_count": 4,
   "id": "b64ad763-614c-4510-8d84-0003405d3e57",
   "metadata": {},
   "outputs": [
    {
     "data": {
      "text/markdown": [
       "**Question**: What is Generative AI? Describe in one page\n"
      ],
      "text/plain": [
       "<IPython.core.display.Markdown object>"
      ]
     },
     "metadata": {},
     "output_type": "display_data"
    },
    {
     "data": {
      "text/markdown": [
       "**Generative AI: An Overview**\n",
       "\n",
       "Generative AI refers to a type of artificial intelligence that can generate new, original content, such as text, images, videos, or music, based on a given input or prompt. This technology has the ability to create synthetic data that is similar in structure and pattern to the data it was trained on.\n",
       "\n",
       "**Key Characteristics:**\n",
       "\n",
       "1. **Content Generation**: Generative AI can create new content, such as text, images, or music, that is similar in style and structure to the data it was trained on.\n",
       "2. **Autonomy**: Generative AI models can operate independently, without human intervention, to generate new content.\n",
       "3. **Creativity**: Generative AI has the ability to create novel and original content that is not simply a copy of existing data.\n",
       "\n",
       "**Types of Generative AI:**\n",
       "\n",
       "1. **Text Generation**: Models like ChatGPT can generate human-like text based on a given prompt.\n",
       "2. **Image Generation**: Models like DALL-E can generate images based on a text prompt.\n",
       "3. **Music Generation**: Models like Amper Music can generate original music tracks based on a given style or genre.\n",
       "\n",
       "**Applications:**\n",
       "\n",
       "1. **Content Creation**: Generative AI can be used to generate content for social media, blogs, or websites.\n",
       "2. **Art and Design**: Generative AI can be used to create original artwork, designs, or music.\n",
       "3. **Data Augmentation**: Generative AI can be used to generate new data to augment existing datasets, improving the accuracy of machine learning models.\n",
       "\n",
       "**Potential Benefits:**\n",
       "\n",
       "1. **Increased Efficiency**: Generative AI can automate content creation, freeing up time for more creative and strategic tasks.\n",
       "2. **Improved Accuracy**: Generative AI can generate high-quality content that is consistent in style and tone.\n",
       "3. **New Opportunities**: Generative AI can enable new forms of creative expression and innovation.\n",
       "\n",
       "Overall, Generative AI has the potential to revolutionize the way we create and interact with content, and its applications are vast and varied."
      ],
      "text/plain": [
       "<IPython.core.display.Markdown object>"
      ]
     },
     "metadata": {},
     "output_type": "display_data"
    },
    {
     "name": "stdout",
     "output_type": "stream",
     "text": [
      "\n"
     ]
    },
    {
     "data": {
      "text/markdown": [
       "**Question**: What could be its effects on italian GDP and productivity?\n"
      ],
      "text/plain": [
       "<IPython.core.display.Markdown object>"
      ]
     },
     "metadata": {},
     "output_type": "display_data"
    },
    {
     "data": {
      "text/markdown": [
       "**Effects of Generative AI on Italian GDP and Productivity**\n",
       "\n",
       "According to a study by The European House - Ambrosetti, the adoption of Generative AI in Italy could have significant effects on the country's GDP and productivity.\n",
       "\n",
       "**Potential Effects:**\n",
       "\n",
       "1. **Increase in GDP**: The study estimates that the adoption of Generative AI could increase Italy's GDP by up to 18.2%, which translates to an additional €312 billion.\n",
       "2. **Improved Productivity**: Generative AI could improve productivity in various sectors, such as finance, ICT, and manufacturing, by automating routine tasks and enabling workers to focus on higher-value tasks.\n",
       "3. **Job Market Impact**: While Generative AI may automate some jobs, it is also expected to create new job opportunities in fields such as AI development, deployment, and maintenance.\n",
       "4. **Competitiveness**: The adoption of Generative AI could enhance Italy's competitiveness in the global market, particularly in sectors where innovation and technological advancement are key drivers of success.\n",
       "\n",
       "**Sectoral Impact:**\n",
       "\n",
       "1. **Finance and ICT**: These sectors are expected to experience the highest productivity gains, with potential increases of up to 20-30%.\n",
       "2. **Manufacturing**: The adoption of Generative AI could improve manufacturing productivity by up to 10-15%, particularly in areas such as design, production planning, and quality control.\n",
       "3. **Services**: The services sector, including areas such as healthcare, education, and tourism, could also experience productivity gains, although to a lesser extent than finance and ICT.\n",
       "\n",
       "**Challenges and Opportunities:**\n",
       "\n",
       "1. **Investment in Digital Infrastructure**: Italy will need to invest in digital infrastructure, including data storage, processing power, and networking, to support the adoption of Generative AI.\n",
       "2. **Development of AI Skills**: The country will need to develop a workforce with the necessary skills to develop, deploy, and maintain Generative AI systems.\n",
       "3. **Regulatory Framework**: A supportive regulatory framework will be essential to encourage the adoption of Generative AI and address potential risks and challenges.\n",
       "\n",
       "Overall, the adoption of Generative AI has the potential to drive significant economic growth and productivity gains in Italy, but it will require careful planning, investment, and policy support to realize these benefits."
      ],
      "text/plain": [
       "<IPython.core.display.Markdown object>"
      ]
     },
     "metadata": {},
     "output_type": "display_data"
    },
    {
     "name": "stdout",
     "output_type": "stream",
     "text": [
      "\n"
     ]
    }
   ],
   "source": [
    "# note that the conversation is maintained\n",
    "# questions = [\"What is metformin?\", \"What are its side effects?\", \"Can it be given to children?\"]\n",
    "# questions = [\"What is aspirin?\", \"What are its side effects?\", \"Can it be given to children?\", \"My question is: can I give aspirin to children?\"]\n",
    "# questions = [\"Cosa è la tachipirina\", \"quali sono gli effetti indesiderati?\", \"Può essere somministrata ai bambini?\"]\n",
    "# questions = [\"Descrivi in una pagina cosa è l'AI generativa?\", \"Quali possono essere i suoi effetti sul PIL italiano e sulla produttività?\"]\n",
    "questions = [\n",
    "    \"What is Generative AI? Describe in one page\",\n",
    "    \"What could be its effects on italian GDP and productivity?\",\n",
    "]\n",
    "\n",
    "for question in questions:\n",
    "    ai_msg = rag_agent.chat(session_id=SESSION_ID, message=question)\n",
    "\n",
    "    display(Markdown(f\"**Question**: {question}\\n\"))\n",
    "    display(Markdown(ai_msg[\"answer\"]))\n",
    "    print(\"\")"
   ]
  },
  {
   "cell_type": "code",
   "execution_count": 5,
   "id": "4dc25132-60a8-4bdc-98b8-a5afa9a53492",
   "metadata": {},
   "outputs": [
    {
     "name": "stderr",
     "output_type": "stream",
     "text": [
      "2025-02-10 16:02:52,788 - Session da5cffe5-1256-4a70-8274-def18804526f closed.\n"
     ]
    }
   ],
   "source": [
    "rag_agent.close_session(session_id=SESSION_ID)"
   ]
  },
  {
   "cell_type": "code",
   "execution_count": null,
   "id": "d11f3f49-c772-4c51-ae76-42fac070fc38",
   "metadata": {},
   "outputs": [],
   "source": []
  }
 ],
 "metadata": {
  "kernelspec": {
   "display_name": "Python 3 (ipykernel)",
   "language": "python",
   "name": "python3"
  },
  "language_info": {
   "codemirror_mode": {
    "name": "ipython",
    "version": 3
   },
   "file_extension": ".py",
   "mimetype": "text/x-python",
   "name": "python",
   "nbconvert_exporter": "python",
   "pygments_lexer": "ipython3",
   "version": "3.11.0"
  }
 },
 "nbformat": 4,
 "nbformat_minor": 5
}
