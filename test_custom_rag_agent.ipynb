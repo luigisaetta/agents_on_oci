{
 "cells": [
  {
   "cell_type": "code",
   "execution_count": 6,
   "id": "1b7de2f0-f21a-4ab4-8103-784f5f391298",
   "metadata": {},
   "outputs": [],
   "source": [
    "from IPython.display import display, Markdown\n",
    "from oci_custom_rag_agent import OCICustomRAGagent"
   ]
  },
  {
   "cell_type": "code",
   "execution_count": 10,
   "id": "041e4fb9-da45-4074-82f9-606e441944e6",
   "metadata": {},
   "outputs": [],
   "source": [
    "rag_agent = OCICustomRAGagent(should_stream=False)"
   ]
  },
  {
   "cell_type": "code",
   "execution_count": 11,
   "id": "b64ad763-614c-4510-8d84-0003405d3e57",
   "metadata": {},
   "outputs": [
    {
     "data": {
      "text/markdown": [
       "Question: What are the side effects of aspirin?\n"
      ],
      "text/plain": [
       "<IPython.core.display.Markdown object>"
      ]
     },
     "metadata": {},
     "output_type": "display_data"
    },
    {
     "data": {
      "text/markdown": [
       "Aspirin is a common medication used for its anti-inflammatory, antipyretic, and analgesic properties. While it is generally safe for most people when taken as directed, it can cause several side effects, especially with long-term use or at higher doses. Here are some potential side effects of aspirin:\n",
       "\n",
       "- **Gastrointestinal Issues:** Aspirin can irritate the stomach lining, leading to gastrointestinal problems such as stomach pain, heartburn, nausea, vomiting, and in some cases, stomach ulcers or gastrointestinal bleeding.\n",
       "- **Bleeding:** Aspirin has blood-thinning properties, which can increase the risk of bleeding. This may include prolonged bleeding from cuts, easier bruising, nosebleeds, or blood in the urine or stool.\n",
       "- **Allergic Reactions:** Some individuals may experience allergic reactions to aspirin, including rash, hives, swelling, and in severe cases, anaphylaxis.\n",
       "- **Ringing in the Ears (Tinnitus):** Aspirin can sometimes cause temporary tinnitus, which is a ringing or buzzing sound in the ears.\n",
       "- **Headache:** Ironically, aspirin can sometimes cause headaches, especially when starting or stopping its use.\n",
       "- **Dizziness and Fatigue:** Dizziness, lightheadedness, and fatigue are possible side effects, especially at higher doses.\n",
       "- **Kidney Issues:** Prolonged use of aspirin may affect kidney function and increase the risk of kidney problems, particularly in individuals with pre-existing kidney disease.\n",
       "- **Asthma Exacerbation:** In people with asthma, aspirin can sometimes trigger asthma attacks or make symptoms worse.\n",
       "\n",
       "It's important to note that not everyone will experience these side effects, and many people can take aspirin without any problems. However, individuals with certain medical conditions, such as stomach ulcers, bleeding disorders, or kidney disease, should use aspirin with caution and under medical supervision. It is always advisable to follow the recommended dosage and consult a healthcare professional if you have concerns or experience any adverse effects while taking aspirin or any other medication."
      ],
      "text/plain": [
       "<IPython.core.display.Markdown object>"
      ]
     },
     "metadata": {},
     "output_type": "display_data"
    }
   ],
   "source": [
    "question = \"What are the side effects of aspirin?\"\n",
    "\n",
    "ai_msg = rag_agent.chat(session_id=\"1234\", message=question)\n",
    "\n",
    "# output from the LLM is usually markdown\n",
    "display(Markdown(f\"Question: {question}\\n\"))\n",
    "display(Markdown(ai_msg[\"answer\"]))"
   ]
  },
  {
   "cell_type": "code",
   "execution_count": null,
   "id": "4dc25132-60a8-4bdc-98b8-a5afa9a53492",
   "metadata": {},
   "outputs": [],
   "source": []
  }
 ],
 "metadata": {
  "kernelspec": {
   "display_name": "Python 3 (ipykernel)",
   "language": "python",
   "name": "python3"
  },
  "language_info": {
   "codemirror_mode": {
    "name": "ipython",
    "version": 3
   },
   "file_extension": ".py",
   "mimetype": "text/x-python",
   "name": "python",
   "nbconvert_exporter": "python",
   "pygments_lexer": "ipython3",
   "version": "3.11.0"
  }
 },
 "nbformat": 4,
 "nbformat_minor": 5
}
