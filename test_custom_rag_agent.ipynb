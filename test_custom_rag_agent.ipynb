{
 "cells": [
  {
   "cell_type": "code",
   "execution_count": 1,
   "id": "1b7de2f0-f21a-4ab4-8103-784f5f391298",
   "metadata": {},
   "outputs": [],
   "source": [
    "from IPython.display import display, Markdown\n",
    "from oci_custom_rag_agent import OCICustomRAGagent"
   ]
  },
  {
   "cell_type": "code",
   "execution_count": 2,
   "id": "041e4fb9-da45-4074-82f9-606e441944e6",
   "metadata": {},
   "outputs": [],
   "source": [
    "rag_agent = OCICustomRAGagent(should_stream=False)"
   ]
  },
  {
   "cell_type": "code",
   "execution_count": 3,
   "id": "dab9dac9-56e9-4470-a5b2-6294ad86fdb4",
   "metadata": {},
   "outputs": [
    {
     "name": "stderr",
     "output_type": "stream",
     "text": [
      "2025-02-08 22:48:26,292 - Session 8c4abc09-62c9-4af9-a5b4-f507a79de526 created.\n"
     ]
    }
   ],
   "source": [
    "SESSION_ID = rag_agent.create_session()"
   ]
  },
  {
   "cell_type": "code",
   "execution_count": 4,
   "id": "b64ad763-614c-4510-8d84-0003405d3e57",
   "metadata": {},
   "outputs": [
    {
     "data": {
      "text/markdown": [
       "Question: What are the side effects of aspirin?\n"
      ],
      "text/plain": [
       "<IPython.core.display.Markdown object>"
      ]
     },
     "metadata": {},
     "output_type": "display_data"
    },
    {
     "data": {
      "text/markdown": [
       "Aspirin is a common medication used for its anti-inflammatory, antipyretic, and analgesic properties. While it is generally safe for most people when taken as directed, it can cause several side effects, especially with long-term use or at higher doses. Here are some potential side effects of aspirin:\n",
       "\n",
       "- **Gastrointestinal Issues:** Aspirin can irritate the stomach lining, leading to gastrointestinal problems such as stomach pain, nausea, vomiting, heartburn, and in some cases, more severe conditions like stomach ulcers or gastrointestinal bleeding.\n",
       "- **Bleeding:** Aspirin has a blood-thinning effect, which is one of its desired actions in preventing blood clots. However, this can also lead to increased bleeding, including prolonged bleeding from cuts, easier bruising, nosebleeds, and in rare cases, internal bleeding.\n",
       "- **Allergic Reaction:** Some individuals may experience an allergic reaction to aspirin, which can range from mild symptoms like skin rash, hives, and itching to more severe reactions such as swelling of the face, lips, tongue, or throat, difficulty breathing, and anaphylaxis.\n",
       "- **Ringing in the Ears (Tinnitus):** Aspirin can sometimes cause tinnitus, which is a ringing or buzzing sound in the ears.\n",
       "- **Headache:** Ironically, one of the side effects of aspirin can be headaches, especially when starting or stopping the medication.\n",
       "- **Dizziness and Fatigue:** Dizziness, lightheadedness, and fatigue are possible side effects, especially at higher doses.\n",
       "- **Kidney Issues:** Prolonged use of aspirin may affect kidney function and increase the risk of kidney problems, particularly in individuals with pre-existing kidney disease.\n",
       "- **Asthma Exacerbation:** Aspirin can trigger or worsen asthma symptoms in some individuals with asthma or a history of respiratory reactions to aspirin.\n",
       "- **Reye's Syndrome:** In rare cases, children and teenagers recovering from a viral infection who take aspirin may develop Reye's Syndrome, a potentially life-threatening condition affecting the brain and liver.\n",
       "\n",
       "It is important to note that not everyone will experience these side effects, and many people can take aspirin without any problems. However, it is always advisable to consult a healthcare professional before starting any new medication, especially if you have underlying medical conditions or are taking other medications, to ensure safe and appropriate use."
      ],
      "text/plain": [
       "<IPython.core.display.Markdown object>"
      ]
     },
     "metadata": {},
     "output_type": "display_data"
    },
    {
     "data": {
      "text/markdown": [
       "Question: Can it be given to children?\n"
      ],
      "text/plain": [
       "<IPython.core.display.Markdown object>"
      ]
     },
     "metadata": {},
     "output_type": "display_data"
    },
    {
     "data": {
      "text/markdown": [
       "Aspirin is generally not recommended for children, especially for those under the age of 12, unless specifically prescribed by a doctor for certain medical conditions. Here's why:\n",
       "\n",
       "- **Reye's Syndrome Risk:** Aspirin use in children, especially those with a viral illness such as chickenpox or influenza, has been linked to an increased risk of developing Reye's Syndrome. Reye's Syndrome is a rare but serious condition that can cause severe liver and brain damage and is potentially life-threatening.\n",
       "- **Stomach Irritation:** Aspirin can irritate the stomach lining and increase the risk of gastrointestinal issues, such as stomach pain, nausea, and vomiting, which can be more severe in children.\n",
       "- **Bleeding Disorders:** Aspirin's blood-thinning effect can make bleeding and bruising more likely. Children, especially those with bleeding disorders or undergoing certain medical procedures, may be at a higher risk of excessive bleeding.\n",
       "- **Allergic Reactions:** As with any medication, there is a risk of allergic reactions, which can be more challenging to manage in children.\n",
       "\n",
       "In most cases, children should not be given aspirin unless a healthcare professional specifically recommends it for certain conditions, such as Kawasaki disease or in specific circumstances where the benefits outweigh the risks. For pain relief or fever reduction, acetaminophen or ibuprofen are often the preferred choices for children, but even these medications should be used under the guidance of a healthcare provider or as directed on the product label. Always consult a pediatrician or healthcare professional for advice on the appropriate medication and dosage for children."
      ],
      "text/plain": [
       "<IPython.core.display.Markdown object>"
      ]
     },
     "metadata": {},
     "output_type": "display_data"
    }
   ],
   "source": [
    "# note that the conversation is mantained\n",
    "questions = [\"What are the side effects of aspirin?\", \"Can it be given to children?\"]\n",
    "\n",
    "for question in questions:\n",
    "    ai_msg = rag_agent.chat(session_id=SESSION_ID, message=question)\n",
    "\n",
    "    display(Markdown(f\"Question: {question}\\n\"))\n",
    "    display(Markdown(ai_msg[\"answer\"]))"
   ]
  },
  {
   "cell_type": "code",
   "execution_count": 5,
   "id": "4dc25132-60a8-4bdc-98b8-a5afa9a53492",
   "metadata": {},
   "outputs": [
    {
     "name": "stderr",
     "output_type": "stream",
     "text": [
      "2025-02-08 22:48:56,536 - Session 8c4abc09-62c9-4af9-a5b4-f507a79de526 closed.\n"
     ]
    }
   ],
   "source": [
    "rag_agent.close_session(session_id=SESSION_ID)"
   ]
  },
  {
   "cell_type": "code",
   "execution_count": null,
   "id": "d11f3f49-c772-4c51-ae76-42fac070fc38",
   "metadata": {},
   "outputs": [],
   "source": []
  }
 ],
 "metadata": {
  "kernelspec": {
   "display_name": "Python 3 (ipykernel)",
   "language": "python",
   "name": "python3"
  },
  "language_info": {
   "codemirror_mode": {
    "name": "ipython",
    "version": 3
   },
   "file_extension": ".py",
   "mimetype": "text/x-python",
   "name": "python",
   "nbconvert_exporter": "python",
   "pygments_lexer": "ipython3",
   "version": "3.11.0"
  }
 },
 "nbformat": 4,
 "nbformat_minor": 5
}
