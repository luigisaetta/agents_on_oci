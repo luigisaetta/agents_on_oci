{
 "cells": [
  {
   "cell_type": "markdown",
   "id": "59a87a44-367d-47c9-b4b1-9c5e65a597a2",
   "metadata": {},
   "source": [
    "### Service Ticket Classification\n",
    "\n",
    "* shows how to use structured output to automatically classify Service requests"
   ]
  },
  {
   "cell_type": "code",
   "execution_count": 1,
   "id": "28346cfd-925f-418c-bc9b-ca73a0473ea1",
   "metadata": {},
   "outputs": [],
   "source": [
    "from langchain_community.chat_models import ChatOCIGenAI\n",
    "from langchain_core.messages import HumanMessage, SystemMessage\n",
    "from pydantic import BaseModel, Field\n",
    "from enum import Enum\n",
    "from typing import List\n",
    "\n",
    "from config_private import COMPARTMENT_OCID"
   ]
  },
  {
   "cell_type": "code",
   "execution_count": 2,
   "id": "c622fe3d-c3b7-4dea-a418-fd53e91797e3",
   "metadata": {},
   "outputs": [],
   "source": [
    "endpoint = \"https://inference.generativeai.eu-frankfurt-1.oci.oraclecloud.com\""
   ]
  },
  {
   "cell_type": "code",
   "execution_count": 3,
   "id": "3cdbda1c-01f5-4310-8cec-2f84a9214b05",
   "metadata": {},
   "outputs": [],
   "source": [
    "chat = ChatOCIGenAI(\n",
    "    model_id=\"cohere.command-r-plus-08-2024\",\n",
    "    service_endpoint=endpoint,\n",
    "    compartment_id=COMPARTMENT_OCID,\n",
    "    provider=\"cohere\",\n",
    "    model_kwargs={\n",
    "        \"temperature\": 0,\n",
    "        \"max_tokens\": 600,\n",
    "        \"frequency_penalty\": 1,\n",
    "        \"presence_penalty\": 0,\n",
    "        \"top_p\": 0.75,\n",
    "        \"top_k\": 0,\n",
    "        \"seed\": 1234,\n",
    "    },\n",
    "    auth_type=\"API_KEY\",\n",
    ")"
   ]
  },
  {
   "cell_type": "code",
   "execution_count": 4,
   "id": "e47c99c5-8d66-4d28-846d-de0fd5540ffd",
   "metadata": {},
   "outputs": [],
   "source": [
    "class TicketCategory(str, Enum):\n",
    "    ORDER_ISSUE = \"order_issue\"\n",
    "    ACCOUNT_ACCESS = \"account_access\"\n",
    "    PRODUCT_INQUIRY = \"product_inquiry\"\n",
    "    TECHNICAL_SUPPORT = \"technical_support\"\n",
    "    BILLING = \"billing\"\n",
    "    OTHER = \"other\"\n",
    "\n",
    "\n",
    "class CustomerSentiment(str, Enum):\n",
    "    ANGRY = \"angry\"\n",
    "    FRUSTRATED = \"frustrated\"\n",
    "    NEUTRAL = \"neutral\"\n",
    "    SATISFIED = \"satisfied\"\n",
    "\n",
    "\n",
    "class TicketUrgency(str, Enum):\n",
    "    LOW = \"low\"\n",
    "    MEDIUM = \"medium\"\n",
    "    HIGH = \"high\"\n",
    "    CRITICAL = \"critical\""
   ]
  },
  {
   "cell_type": "code",
   "execution_count": 5,
   "id": "4a54fd81-5e1f-4245-9693-46af35b86536",
   "metadata": {},
   "outputs": [],
   "source": [
    "class TicketClassification(BaseModel):\n",
    "    \"\"\"\n",
    "    This code defines a structured data model for classifying customer support tickets using Pydantic and Python's Enum class.\n",
    "    It specifies categories, urgency levels, customer sentiments, and other relevant information as predefined options or constrained fields.\n",
    "    This structure ensures data consistency, enables automatic validation, and facilitates easy integration with AI models and other parts of a support ticket system.\n",
    "    \"\"\"\n",
    "\n",
    "    category: TicketCategory\n",
    "    urgency: TicketUrgency\n",
    "    sentiment: CustomerSentiment\n",
    "    confidence: float = Field(\n",
    "        ge=0, le=1, description=\"Confidence score for the classification\"\n",
    "    )\n",
    "    key_information: List[str] = Field(\n",
    "        description=\"List of key points extracted from the ticket\"\n",
    "    )\n",
    "    suggested_action: str = Field(\n",
    "        description=\"Brief suggestion for handling the ticket\"\n",
    "    )"
   ]
  },
  {
   "cell_type": "code",
   "execution_count": 6,
   "id": "5ce4b56f-0a9e-473a-ba69-e9b4666d40d1",
   "metadata": {},
   "outputs": [],
   "source": [
    "SYSTEM_PROMPT = \"\"\"\n",
    "You are an AI assistant for a large e-commerce platform's customer support team.\n",
    "Your role is to analyze incoming customer support tickets and provide structured information to help our team respond quickly and effectively.\n",
    "Business Context:\n",
    "- We handle thousands of tickets daily across various categories (orders, accounts, products, technical issues, billing).\n",
    "- Quick and accurate classification is crucial for customer satisfaction and operational efficiency.\n",
    "- We prioritize based on urgency and customer sentiment.\n",
    "Your tasks:\n",
    "1. Categorize the ticket into the most appropriate category (order_issue, account_access, product_inquiry, technical_support, billing, other).\n",
    "2. Assess the urgency of the issue (low, medium, high, critical).\n",
    "3. Determine the customer's sentiment (angry, frustrated, neutral, satisfied).\n",
    "4. Extract key information that would be helpful for our support team.\n",
    "5. Suggest an initial action for handling the ticket.\n",
    "6. Provide a confidence score for your classification.\n",
    "Remember:\n",
    "- Be objective and base your analysis solely on the information provided in the ticket.\n",
    "- If you're unsure about any aspect, reflect that in your confidence score.\n",
    "- For 'key_information', extract specific details like order numbers, product names, or account issues.\n",
    "- The 'suggested_action' should be a brief, actionable step for our support team.\n",
    "Analyze the following customer support ticket and provide the requested information in the specified format.\n",
    "\"\"\""
   ]
  },
  {
   "cell_type": "code",
   "execution_count": 7,
   "id": "b79fe7c5-03bf-43c4-a8ca-5822b4c22ddb",
   "metadata": {},
   "outputs": [],
   "source": [
    "#\n",
    "# this function is used to test\n",
    "#\n",
    "def classify_ticket(ticket_text: str) -> TicketClassification:\n",
    "    structured_chat = chat.with_structured_output(schema=TicketClassification)\n",
    "    return structured_chat.invoke(\n",
    "        [\n",
    "            SystemMessage(content=SYSTEM_PROMPT),\n",
    "            HumanMessage(content=ticket_text),\n",
    "        ]\n",
    "    )"
   ]
  },
  {
   "cell_type": "code",
   "execution_count": 8,
   "id": "af4f9843-d832-4df4-88eb-6f630db8808d",
   "metadata": {},
   "outputs": [
    {
     "name": "stdout",
     "output_type": "stream",
     "text": [
      "{\n",
      "  \"category\": \"order_issue\",\n",
      "  \"urgency\": \"high\",\n",
      "  \"sentiment\": \"angry\",\n",
      "  \"confidence\": 1.0,\n",
      "  \"key_information\": [\n",
      "    \"Order #12345\",\n",
      "    \"laptop\",\n",
      "    \"tablet\"\n",
      "  ],\n",
      "  \"suggested_action\": \"Check the order details and confirm the discrepancy. Contact the customer to apologise and arrange for the correct item to be delivered.\"\n",
      "}\n"
     ]
    }
   ],
   "source": [
    "# Sample customer support tickets\n",
    "ticket1 = \"\"\"\n",
    "I ordered a laptop from your store last week (Order #12345), but I received a tablet instead.\n",
    "This is unacceptable! I need the laptop for work urgently. Please resolve this immediately or I'll have to dispute the charge.\n",
    "\"\"\"\n",
    "\n",
    "result1 = classify_ticket(ticket1)\n",
    "\n",
    "print(result1.model_dump_json(indent=2))"
   ]
  },
  {
   "cell_type": "code",
   "execution_count": 9,
   "id": "fc6b05ee-5de4-4cf6-972a-b9ac41bf985b",
   "metadata": {},
   "outputs": [
    {
     "name": "stdout",
     "output_type": "stream",
     "text": [
      "{\n",
      "  \"category\": \"account_access\",\n",
      "  \"urgency\": \"medium\",\n",
      "  \"sentiment\": \"frustrated\",\n",
      "  \"confidence\": 1.0,\n",
      "  \"key_information\": [\n",
      "    \"Customer is having trouble logging into their account\",\n",
      "    \"They have tried resetting their password but are not receiving the reset email\"\n",
      "  ],\n",
      "  \"suggested_action\": \"Check the customer's email address on file and ensure it is correct. If it is, advise the customer to check their spam folder for the reset email.\"\n",
      "}\n"
     ]
    }
   ],
   "source": [
    "# Sample customer support tickets\n",
    "ticket2 = \"\"\"\n",
    "Hello, I'm having trouble logging into my account. I've tried resetting my password, but I'm not receiving the reset email.\n",
    "Can you please help me regain access to my account? I've been a loyal customer for years and have several pending orders.\n",
    "\"\"\"\n",
    "\n",
    "result2 = classify_ticket(ticket2)\n",
    "print(result2.model_dump_json(indent=2))"
   ]
  },
  {
   "cell_type": "code",
   "execution_count": 10,
   "id": "22f0c5a1-8d4c-4ba2-9321-8fba215f37bb",
   "metadata": {},
   "outputs": [
    {
     "name": "stdout",
     "output_type": "stream",
     "text": [
      "{\n",
      "  \"category\": \"technical_support\",\n",
      "  \"urgency\": \"medium\",\n",
      "  \"sentiment\": \"angry\",\n",
      "  \"confidence\": 0.9,\n",
      "  \"key_information\": [\n",
      "    \"Unable to log in to MacBook\",\n",
      "    \"Password issues\",\n",
      "    \"Recurring problem\"\n",
      "  ],\n",
      "  \"suggested_action\": \"Check for software updates and verify password settings.\"\n",
      "}\n"
     ]
    }
   ],
   "source": [
    "# Sample customer support tickets\n",
    "ticket3 = \"\"\"\n",
    "Hello, from time to time I have trouble accessing my MacBook, but it is not clear what the problem is..\n",
    "The problem is that I'm not able to log-in, Have to try many times to resubmit my pwd.\n",
    "What can I do?\n",
    "It is the 10th time that my MacBook has problem. It is totally unacceptable.\n",
    "\"\"\"\n",
    "\n",
    "result3 = classify_ticket(ticket3)\n",
    "print(result3.model_dump_json(indent=2))"
   ]
  },
  {
   "cell_type": "code",
   "execution_count": null,
   "id": "6485bdf1-8674-4cee-bc64-c1f2573d9161",
   "metadata": {},
   "outputs": [],
   "source": []
  },
  {
   "cell_type": "code",
   "execution_count": null,
   "id": "36404631-4aaf-4184-a9e6-d5fdf5260487",
   "metadata": {},
   "outputs": [],
   "source": []
  }
 ],
 "metadata": {
  "kernelspec": {
   "display_name": "Python 3 (ipykernel)",
   "language": "python",
   "name": "python3"
  },
  "language_info": {
   "codemirror_mode": {
    "name": "ipython",
    "version": 3
   },
   "file_extension": ".py",
   "mimetype": "text/x-python",
   "name": "python",
   "nbconvert_exporter": "python",
   "pygments_lexer": "ipython3",
   "version": "3.11.0"
  }
 },
 "nbformat": 4,
 "nbformat_minor": 5
}
