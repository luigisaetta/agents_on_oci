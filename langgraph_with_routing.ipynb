{
 "cells": [
  {
   "cell_type": "markdown",
   "id": "50386b10-1f9b-48c1-a565-532cebf41f1c",
   "metadata": {},
   "source": [
    "## LangGraph with routing\n",
    "\n",
    "In this example we show you how to create an agent with routing using:\n",
    "* OCI Generative AI (Cohere command-r-plus)\n",
    "* LangGraph\n",
    "\n",
    "The agent can take two different kind of requests:\n",
    "* **RAG** requests: the **RAG Agent** gives the answer\n",
    "* **Text2SQL** requests: the **SQL agent** generates the SQL code, executes it and returns the result."
   ]
  },
  {
   "cell_type": "code",
   "execution_count": 1,
   "id": "8ab7b8cc-de5c-46c6-ae78-523c2961c9d4",
   "metadata": {},
   "outputs": [],
   "source": [
    "from types import SimpleNamespace\n",
    "from pydantic import BaseModel, Field\n",
    "from typing_extensions import Literal, TypedDict\n",
    "from langchain_core.messages import HumanMessage, SystemMessage\n",
    "from langgraph.graph import StateGraph, START, END\n",
    "from IPython.display import Image, display, Markdown\n",
    "\n",
    "# to visualize the ds returned from SQL query\n",
    "import pandas as pd\n",
    "\n",
    "from config_reader import ConfigReader\n",
    "from router import Router\n",
    "from oci_rag_agent import OCIRAGAgent\n",
    "from select_ai_sql_agent import SelectAISQLAgent\n",
    "from utils import get_console_logger\n",
    "\n",
    "from config_private import AGENT_ID"
   ]
  },
  {
   "cell_type": "code",
   "execution_count": 2,
   "id": "b23db4aa-06ef-4490-9ef9-8693529bc310",
   "metadata": {},
   "outputs": [],
   "source": [
    "DEBUG = False\n",
    "\n",
    "# reading the configuration\n",
    "config = ConfigReader(\"config.toml\")\n",
    "\n",
    "# config for OCI RAG agent\n",
    "SHOULD_STREAM = False\n",
    "RAG_ENDPOINT = config.find_key(\"rag_endpoint\")\n",
    "\n",
    "# logging\n",
    "logger = get_console_logger()"
   ]
  },
  {
   "cell_type": "code",
   "execution_count": 3,
   "id": "ab9b5455-0994-4c57-9ec2-f2b8a6aa6c0e",
   "metadata": {},
   "outputs": [],
   "source": [
    "# agent for tools (it is a multi-agent)\n",
    "\n",
    "# router\n",
    "router = Router()\n",
    "\n",
    "# RAG\n",
    "rag_client = OCIRAGAgent(AGENT_ID, RAG_ENDPOINT, should_stream=SHOULD_STREAM)\n",
    "\n",
    "# SQL\n",
    "sql_agent = SelectAISQLAgent(config)"
   ]
  },
  {
   "cell_type": "code",
   "execution_count": 4,
   "id": "e59c2828-9d63-4ce3-afe5-019e496ed36a",
   "metadata": {},
   "outputs": [],
   "source": [
    "#\n",
    "# tools definition\n",
    "#\n",
    "# State\n",
    "class State(TypedDict):\n",
    "    \"\"\"\n",
    "    Defines the internal state of the agent\n",
    "    \"\"\"\n",
    "\n",
    "    input: str\n",
    "    decision: str\n",
    "    output: str\n",
    "    data: list\n",
    "    output_tool: str\n",
    "\n",
    "\n",
    "# Nodes\n",
    "def handle_generate_sql(state: State):\n",
    "    \"\"\"generate_sql\"\"\"\n",
    "\n",
    "    logger.info(\"Called handle_generate_sql...\")\n",
    "\n",
    "    print(\"Calling generate sql...\")\n",
    "\n",
    "    sql = sql_agent.generate_sql(state[\"input\"])\n",
    "\n",
    "    print(f\"SQL generated:\\n {sql}\")\n",
    "\n",
    "    if sql_agent.check_sql(sql):\n",
    "        rows = sql_agent.execute_sql(sql)\n",
    "        print(f\"SQL executed...\")\n",
    "\n",
    "    return {\"output\": rows, \"output_tool\": \"generate_sql\", \"data\": rows}\n",
    "\n",
    "\n",
    "def handle_analyze_data(state: State):\n",
    "    \"\"\"analyze_data\"\"\"\n",
    "\n",
    "    logger.info(\"Called handle_analyze_data...\")\n",
    "\n",
    "    # simulate\n",
    "    result = SimpleNamespace(content=\"Report generated: 1000\")\n",
    "\n",
    "    return {\"output\": result.content, \"output_tool\": \"analyze_data\"}\n",
    "\n",
    "\n",
    "def handle_not_allowed(state: State):\n",
    "    \"\"\"not_allowed\"\"\"\n",
    "\n",
    "    logger.info(\"Called handle_not_allowed...\")\n",
    "\n",
    "    result = SimpleNamespace(content=f\"Operation: {state['input']} is not allowed!\")\n",
    "\n",
    "    return {\"output\": result.content, \"output_tool\": \"not_allowed\"}\n",
    "\n",
    "\n",
    "#\n",
    "# This one uses a LLM\n",
    "#\n",
    "def handle_answer_directly(state: State):\n",
    "    \"\"\"answer_directly\"\"\"\n",
    "\n",
    "    # this one use RAG agent\n",
    "    logger.info(\"Called handle_answer_directly...\")\n",
    "\n",
    "    sess_id = rag_client.create_session()\n",
    "\n",
    "    response = rag_client.chat(sess_id, state[\"input\"])\n",
    "\n",
    "    return {\"output\": response, \"output_tool\": \"answer_directly\"}\n",
    "\n",
    "\n",
    "# here we could put a different prompt\n",
    "def handle_not_defined(state: State):\n",
    "    \"\"\"handle not_defined\"\"\"\n",
    "\n",
    "    logger.info(\"Called handle_not_defined...\")\n",
    "\n",
    "    result = SimpleNamespace(content=f\"Not defined...\")\n",
    "\n",
    "    return {\"output\": result.content, \"output_tool\": \"not_defined\"}"
   ]
  },
  {
   "cell_type": "code",
   "execution_count": 5,
   "id": "16287916-efce-4a2f-8080-b9fb629ccd9b",
   "metadata": {},
   "outputs": [],
   "source": [
    "def llm_call_router(state: State):\n",
    "    \"\"\"Route the input to the appropriate node\"\"\"\n",
    "\n",
    "    if DEBUG:\n",
    "        logger.info(\"Input: %s\", state[\"input\"])\n",
    "\n",
    "    return router.route(state)"
   ]
  },
  {
   "cell_type": "code",
   "execution_count": 6,
   "id": "2c11f3c3-33fa-48a4-9ee9-3dc09e4948ae",
   "metadata": {},
   "outputs": [
    {
     "name": "stderr",
     "output_type": "stream",
     "text": [
      "2025-02-10 17:25:29,535 - Called router...\n"
     ]
    },
    {
     "name": "stdout",
     "output_type": "stream",
     "text": [
      "\n"
     ]
    },
    {
     "name": "stderr",
     "output_type": "stream",
     "text": [
      "2025-02-10 17:25:30,839 - Decision: {'step': 'analyze_data'}\n",
      "2025-02-10 17:25:30,841 - Called router...\n"
     ]
    },
    {
     "name": "stdout",
     "output_type": "stream",
     "text": [
      "The request is:  analyze the data and create a report\n",
      "Router decision is:  {'decision': 'analyze_data'}\n",
      "\n"
     ]
    },
    {
     "name": "stderr",
     "output_type": "stream",
     "text": [
      "2025-02-10 17:25:31,943 - Decision: {'step': 'generate_sql'}\n",
      "2025-02-10 17:25:31,945 - Called router...\n"
     ]
    },
    {
     "name": "stdout",
     "output_type": "stream",
     "text": [
      "The request is:  I want all the orders made in Italy in 2024\n",
      "Router decision is:  {'decision': 'generate_sql'}\n",
      "\n"
     ]
    },
    {
     "name": "stderr",
     "output_type": "stream",
     "text": [
      "2025-02-10 17:25:33,367 - Decision: {'step': 'answer_directly'}\n",
      "2025-02-10 17:25:33,369 - Called router...\n"
     ]
    },
    {
     "name": "stdout",
     "output_type": "stream",
     "text": [
      "The request is:  Who is Enrico Fermi\n",
      "Router decision is:  {'decision': 'answer_directly'}\n",
      "\n"
     ]
    },
    {
     "name": "stderr",
     "output_type": "stream",
     "text": [
      "2025-02-10 17:25:34,583 - Decision: {'step': 'not_allowed'}\n"
     ]
    },
    {
     "name": "stdout",
     "output_type": "stream",
     "text": [
      "The request is:  delete sales\n",
      "Router decision is:  {'decision': 'not_allowed'}\n"
     ]
    }
   ],
   "source": [
    "# test the router\n",
    "def test_router(query: str):\n",
    "    # set the input\n",
    "    state_test = State(input=query)\n",
    "\n",
    "    outcome = llm_call_router(state_test)\n",
    "\n",
    "    return outcome\n",
    "\n",
    "\n",
    "#\n",
    "# Battery of tests\n",
    "#\n",
    "queries = [\n",
    "    \"analyze the data and create a report\",\n",
    "    \"I want all the orders made in Italy in 2024\",\n",
    "    \"Who is Enrico Fermi\",\n",
    "    \"delete sales\",\n",
    "]\n",
    "\n",
    "for query in queries:\n",
    "    try:\n",
    "        print(\"\")\n",
    "\n",
    "        outcome = test_router(query)\n",
    "\n",
    "        print(\"The request is: \", query)\n",
    "        print(\"Router decision is: \", outcome)\n",
    "    except Exception as e:\n",
    "        print(e)"
   ]
  },
  {
   "cell_type": "markdown",
   "id": "3730829f-cd60-46c2-ac9c-d7b86758ecf9",
   "metadata": {},
   "source": [
    "### define the graph"
   ]
  },
  {
   "cell_type": "code",
   "execution_count": 7,
   "id": "3ca06708-6658-4ec7-b5a9-939f01df1db6",
   "metadata": {},
   "outputs": [],
   "source": [
    "# Conditional edge function to route to the appropriate node\n",
    "def route_decision(state: State):\n",
    "    \"\"\"\n",
    "    return only the next step name\n",
    "    \"\"\"\n",
    "    return state[\"decision\"]\n",
    "\n",
    "\n",
    "# the aggregator\n",
    "def aggregator(state: State):\n",
    "    \"\"\"Aggregate and refine the output\"\"\"\n",
    "\n",
    "    # for now, only logging\n",
    "    logger.info(\"Aggregating outputs...\")\n",
    "\n",
    "\n",
    "# Build workflow graph\n",
    "router_builder = StateGraph(State)\n",
    "\n",
    "# Add nodes\n",
    "router_builder.add_node(\"handle_generate_sql\", handle_generate_sql)\n",
    "router_builder.add_node(\"handle_analyze_data\", handle_analyze_data)\n",
    "router_builder.add_node(\"handle_not_allowed\", handle_not_allowed)\n",
    "router_builder.add_node(\"handle_answer_directly\", handle_answer_directly)\n",
    "router_builder.add_node(\"handle_not_defined\", handle_not_defined)\n",
    "\n",
    "router_builder.add_node(\"aggregator\", aggregator)\n",
    "router_builder.add_node(\"llm_call_router\", llm_call_router)\n",
    "\n",
    "# Add edges to connect nodes\n",
    "router_builder.add_edge(START, \"llm_call_router\")\n",
    "\n",
    "router_builder.add_conditional_edges(\n",
    "    \"llm_call_router\",\n",
    "    # this one can be simplified\n",
    "    route_decision,\n",
    "    {  # Name returned by route_decision : Name of next node to visit\n",
    "        \"generate_sql\": \"handle_generate_sql\",\n",
    "        \"analyze_data\": \"handle_analyze_data\",\n",
    "        \"not_allowed\": \"handle_not_allowed\",\n",
    "        \"answer_directly\": \"handle_answer_directly\",\n",
    "        \"not_defined\": \"handle_not_defined\",\n",
    "    },\n",
    ")\n",
    "\n",
    "router_builder.add_edge(\"handle_generate_sql\", \"aggregator\")\n",
    "router_builder.add_edge(\"handle_analyze_data\", \"aggregator\")\n",
    "router_builder.add_edge(\"handle_not_allowed\", \"aggregator\")\n",
    "router_builder.add_edge(\"handle_answer_directly\", \"aggregator\")\n",
    "router_builder.add_edge(\"handle_not_defined\", \"aggregator\")\n",
    "router_builder.add_edge(\"aggregator\", END)\n",
    "\n",
    "# Compile workflow\n",
    "router_workflow = router_builder.compile()"
   ]
  },
  {
   "cell_type": "code",
   "execution_count": 8,
   "id": "6d7c9d2f-5210-4f27-9935-1baecf21e1f0",
   "metadata": {},
   "outputs": [
    {
     "data": {
      "image/png": "[encoded data removed]",
      "text/plain": [
       "<IPython.core.display.Image object>"
      ]
     },
     "metadata": {},
     "output_type": "display_data"
    }
   ],
   "source": [
    "# Show the workflow\n",
    "display(Image(router_workflow.get_graph().draw_mermaid_png()))"
   ]
  },
  {
   "cell_type": "markdown",
   "id": "1d540561-5bae-4384-8422-771f70a633fc",
   "metadata": {},
   "source": [
    "### Tests"
   ]
  },
  {
   "cell_type": "code",
   "execution_count": 9,
   "id": "c0b9a0c5-a02b-4b96-88b7-3a0f8a4f8407",
   "metadata": {},
   "outputs": [],
   "source": [
    "# function to simplify the tests\n",
    "def test_workflow(query: str):\n",
    "    state = router_workflow.invoke({\"input\": query})\n",
    "\n",
    "    if DEBUG:\n",
    "        print(state)\n",
    "\n",
    "    return state[\"output\"], state[\"output_tool\"]"
   ]
  },
  {
   "cell_type": "markdown",
   "id": "ae500b64-2a6f-458b-a17d-ceba9bafb619",
   "metadata": {},
   "source": [
    "### generate and execute SQL"
   ]
  },
  {
   "cell_type": "code",
   "execution_count": 10,
   "id": "ef2c0dee-2df0-4b1f-89c0-f10d78f5913e",
   "metadata": {},
   "outputs": [
    {
     "name": "stderr",
     "output_type": "stream",
     "text": [
      "2025-02-10 17:26:33,214 - Called router...\n",
      "2025-02-10 17:26:34,335 - Decision: {'step': 'generate_sql'}\n",
      "2025-02-10 17:26:34,339 - Called handle_generate_sql...\n",
      "2025-02-10 17:26:34,340 - Generating SQL...\n"
     ]
    },
    {
     "name": "stdout",
     "output_type": "stream",
     "text": [
      "Calling generate sql...\n",
      "SQL generated:\n",
      " SELECT \n",
      "  p.\"PROD_NAME\" AS \"Product Name\",\n",
      "  SUM(s.\"QUANTITY_SOLD\") AS \"Number of Sales\",\n",
      "  SUM(s.\"AMOUNT_SOLD\") AS \"Total Amount Sold (€)\"\n",
      "FROM \n",
      "  \"SELAI\".\"SALES\" s\n",
      "  JOIN \"SELAI\".\"PRODUCTS\" p ON s.\"PROD_ID\" = p.\"PROD_ID\"\n",
      "GROUP BY \n",
      "  p.\"PROD_NAME\"\n",
      "ORDER BY \n",
      "  SUM(s.\"AMOUNT_SOLD\") DESC\n",
      "FETCH FIRST 5 ROWS ONLY\n"
     ]
    },
    {
     "name": "stderr",
     "output_type": "stream",
     "text": [
      "2025-02-10 17:26:35,978 - SQL validated. Executing...\n",
      "2025-02-10 17:26:36,528 - Executed successfully. Rows fetched: 5\n",
      "2025-02-10 17:26:36,533 - Aggregating outputs...\n"
     ]
    },
    {
     "name": "stdout",
     "output_type": "stream",
     "text": [
      "SQL executed...\n"
     ]
    },
    {
     "data": {
      "text/html": [
       "<div>\n",
       "<style scoped>\n",
       "    .dataframe tbody tr th:only-of-type {\n",
       "        vertical-align: middle;\n",
       "    }\n",
       "\n",
       "    .dataframe tbody tr th {\n",
       "        vertical-align: top;\n",
       "    }\n",
       "\n",
       "    .dataframe thead th {\n",
       "        text-align: right;\n",
       "    }\n",
       "</style>\n",
       "<table border=\"1\" class=\"dataframe\">\n",
       "  <thead>\n",
       "    <tr style=\"text-align: right;\">\n",
       "      <th></th>\n",
       "      <th>Product Name</th>\n",
       "      <th>Number of Sales</th>\n",
       "      <th>Total Amount Sold (€)</th>\n",
       "    </tr>\n",
       "  </thead>\n",
       "  <tbody>\n",
       "    <tr>\n",
       "      <th>0</th>\n",
       "      <td>Envoy Ambassador</td>\n",
       "      <td>9591</td>\n",
       "      <td>15011642.52</td>\n",
       "    </tr>\n",
       "    <tr>\n",
       "      <th>1</th>\n",
       "      <td>Mini DV Camcorder with 3.5\" Swivel LCD</td>\n",
       "      <td>6160</td>\n",
       "      <td>8314815.40</td>\n",
       "    </tr>\n",
       "    <tr>\n",
       "      <th>2</th>\n",
       "      <td>17\" LCD w/built-in HDTV Tuner</td>\n",
       "      <td>6010</td>\n",
       "      <td>7189171.77</td>\n",
       "    </tr>\n",
       "    <tr>\n",
       "      <th>3</th>\n",
       "      <td>Home Theatre Package with DVD-Audio/Video Play</td>\n",
       "      <td>10903</td>\n",
       "      <td>6691996.81</td>\n",
       "    </tr>\n",
       "    <tr>\n",
       "      <th>4</th>\n",
       "      <td>5MP Telephoto Digital Camera</td>\n",
       "      <td>6002</td>\n",
       "      <td>6312268.40</td>\n",
       "    </tr>\n",
       "  </tbody>\n",
       "</table>\n",
       "</div>"
      ],
      "text/plain": [
       "                                     Product Name  Number of Sales  \\\n",
       "0                                Envoy Ambassador             9591   \n",
       "1          Mini DV Camcorder with 3.5\" Swivel LCD             6160   \n",
       "2                   17\" LCD w/built-in HDTV Tuner             6010   \n",
       "3  Home Theatre Package with DVD-Audio/Video Play            10903   \n",
       "4                    5MP Telephoto Digital Camera             6002   \n",
       "\n",
       "   Total Amount Sold (€)  \n",
       "0            15011642.52  \n",
       "1             8314815.40  \n",
       "2             7189171.77  \n",
       "3             6691996.81  \n",
       "4             6312268.40  "
      ]
     },
     "metadata": {},
     "output_type": "display_data"
    }
   ],
   "source": [
    "query = \"\"\"I want a list of the top 5 products sold.\n",
    "For each product I want the product name, number of sales and total amount in euro sold.\n",
    "Return output as markdown\"\"\"\n",
    "\n",
    "outcome, output_tool = test_workflow(query)\n",
    "\n",
    "if output_tool == \"generate_sql\":\n",
    "    # Creazione del DataFrame pandas\n",
    "    df = pd.DataFrame(outcome, index=None)\n",
    "\n",
    "    # Visualizzazione della tabella in Jupyter Notebook\n",
    "    display(df)"
   ]
  },
  {
   "cell_type": "markdown",
   "id": "2da2660d-c202-4f2d-b662-fb0ee5f8268c",
   "metadata": {},
   "source": [
    "### test RAG"
   ]
  },
  {
   "cell_type": "code",
   "execution_count": 11,
   "id": "cb8b6ff1-f9ed-411a-882b-8b167b26c38e",
   "metadata": {},
   "outputs": [
    {
     "name": "stderr",
     "output_type": "stream",
     "text": [
      "2025-02-10 17:26:43,022 - Called router...\n",
      "2025-02-10 17:26:44,070 - Decision: {'step': 'answer_directly'}\n",
      "2025-02-10 17:26:44,073 - Called handle_answer_directly...\n",
      "2025-02-10 17:26:44,680 - Session created, ID: ocid1.genaiagentsession.oc1.us-chicago-1.amaaaaaa7mjirbaaxrjuyf7wwskevhspa2ha5jkpauhyc76m2hesnma6kfxa\n",
      "2025-02-10 17:26:44,681 - \n",
      "2025-02-10 17:26:49,813 - Aggregating outputs...\n"
     ]
    },
    {
     "data": {
      "text/markdown": [
       "Oracle AI Vector Search is designed for Artificial Intelligence (AI) workloads and enables users to query data based on semantics rather than keywords. It combines semantic search on unstructured data with relational search on business data in a single system, offering a powerful and effective solution without the need for a specialized vector database. This means that users can find relevant information by leveraging the semantic meaning behind content, such as words, documents, audio tracks, or images, instead of traditional keyword searches."
      ],
      "text/plain": [
       "<IPython.core.display.Markdown object>"
      ]
     },
     "metadata": {},
     "output_type": "display_data"
    }
   ],
   "source": [
    "query = \"\"\"What is Oracle AI Vector Search?\"\"\"\n",
    "\n",
    "outcome, output_tool = test_workflow(query)\n",
    "\n",
    "if output_tool == \"answer_directly\":\n",
    "    display(Markdown(outcome))"
   ]
  },
  {
   "cell_type": "markdown",
   "id": "db8a599d-4be9-4f3a-af64-cb5a935c174e",
   "metadata": {},
   "source": [
    "### test not allowed"
   ]
  },
  {
   "cell_type": "code",
   "execution_count": 14,
   "id": "9b9d1485-657e-41a8-9799-8a491d877aeb",
   "metadata": {},
   "outputs": [
    {
     "name": "stderr",
     "output_type": "stream",
     "text": [
      "2025-02-10 17:29:26,312 - Called router...\n",
      "2025-02-10 17:29:27,447 - Decision: {'step': 'not_allowed'}\n",
      "2025-02-10 17:29:27,452 - Called handle_not_allowed...\n",
      "2025-02-10 17:29:27,456 - Aggregating outputs...\n"
     ]
    },
    {
     "data": {
      "text/markdown": [
       "Operation: Drop table Sales is not allowed!"
      ],
      "text/plain": [
       "<IPython.core.display.Markdown object>"
      ]
     },
     "metadata": {},
     "output_type": "display_data"
    }
   ],
   "source": [
    "query = \"\"\"Drop table Sales\"\"\"\n",
    "\n",
    "outcome, output_tool = test_workflow(query)\n",
    "\n",
    "if output_tool == \"not_allowed\":\n",
    "    display(Markdown(outcome))"
   ]
  },
  {
   "cell_type": "code",
   "execution_count": null,
   "id": "2bd858ee-5af0-444c-84eb-361c6407c103",
   "metadata": {},
   "outputs": [],
   "source": []
  }
 ],
 "metadata": {
  "kernelspec": {
   "display_name": "Python 3 (ipykernel)",
   "language": "python",
   "name": "python3"
  },
  "language_info": {
   "codemirror_mode": {
    "name": "ipython",
    "version": 3
   },
   "file_extension": ".py",
   "mimetype": "text/x-python",
   "name": "python",
   "nbconvert_exporter": "python",
   "pygments_lexer": "ipython3",
   "version": "3.11.0"
  }
 },
 "nbformat": 4,
 "nbformat_minor": 5
}
