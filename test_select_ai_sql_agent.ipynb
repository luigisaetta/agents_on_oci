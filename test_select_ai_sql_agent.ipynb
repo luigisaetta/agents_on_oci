{
 "cells": [
  {
   "cell_type": "markdown",
   "id": "646c3f41-80d3-47f7-9837-88eb3b2cacd2",
   "metadata": {},
   "source": [
    "### Test SQL Agent\n",
    "This notebook shows how to use the SQL Agent to generate and execute SQL\n",
    "\n",
    "The agent is based on SelectAI, therefore you need to setup SelectAI correctly in the DB"
   ]
  },
  {
   "cell_type": "code",
   "execution_count": 1,
   "id": "ab2bc147-7d09-411f-a45b-5c50af019b4a",
   "metadata": {},
   "outputs": [],
   "source": [
    "import pandas as pd\n",
    "from IPython.display import display, Markdown\n",
    "\n",
    "from select_ai_sql_agent import SelectAISQLAgent\n",
    "from config_reader import ConfigReader"
   ]
  },
  {
   "cell_type": "code",
   "execution_count": 2,
   "id": "aabe1204-e416-4185-9c65-93aef26a161d",
   "metadata": {},
   "outputs": [],
   "source": [
    "config = ConfigReader(\"config.toml\")\n",
    "\n",
    "sql_agent = SelectAISQLAgent(config)"
   ]
  },
  {
   "cell_type": "code",
   "execution_count": 3,
   "id": "ab64bd86-5e8a-426b-bbf5-a58d3b9d9c63",
   "metadata": {},
   "outputs": [],
   "source": [
    "question = \"\"\"I want a list of the top 5 products sold.\n",
    "For each product I want the product name, number of sales and total amount in euro sold.\n",
    "Return output as markdown\"\"\""
   ]
  },
  {
   "cell_type": "code",
   "execution_count": 4,
   "id": "f6260a47-9b65-4726-97f5-e0b2373cd69a",
   "metadata": {},
   "outputs": [
    {
     "name": "stderr",
     "output_type": "stream",
     "text": [
      "2025-02-07 15:40:44,415 - Generating SQL...\n"
     ]
    },
    {
     "name": "stdout",
     "output_type": "stream",
     "text": [
      "SQL:  SELECT \n",
      "  p.\"PROD_NAME\" AS \"Product Name\",\n",
      "  SUM(s.\"QUANTITY_SOLD\") AS \"Number of Sales\",\n",
      "  SUM(s.\"AMOUNT_SOLD\") AS \"Total Amount Sold (€)\"\n",
      "FROM \n",
      "  \"SELAI\".\"SALES\" s\n",
      "  JOIN \"SELAI\".\"PRODUCTS\" p ON s.\"PROD_ID\" = p.\"PROD_ID\"\n",
      "GROUP BY \n",
      "  p.\"PROD_NAME\"\n",
      "ORDER BY \n",
      "  SUM(s.\"AMOUNT_SOLD\") DESC\n",
      "FETCH FIRST 5 ROWS ONLY\n"
     ]
    }
   ],
   "source": [
    "sql_generated = sql_agent.generate_sql(question)\n",
    "\n",
    "print(\"SQL: \", sql_generated)"
   ]
  },
  {
   "cell_type": "code",
   "execution_count": 5,
   "id": "e0af7a3e-a165-4786-a763-ea1b1a4565f2",
   "metadata": {},
   "outputs": [
    {
     "name": "stderr",
     "output_type": "stream",
     "text": [
      "2025-02-07 15:40:45,755 - SQL validated. Executing...\n",
      "2025-02-07 15:40:46,285 - Executed successfully. Rows fetched: 5\n"
     ]
    }
   ],
   "source": [
    "rows = sql_agent.execute_sql(sql_generated)"
   ]
  },
  {
   "cell_type": "code",
   "execution_count": 6,
   "id": "93b7cf35-a3b2-4c50-aed3-dcf37d4b92b6",
   "metadata": {},
   "outputs": [
    {
     "data": {
      "text/html": [
       "<div>\n",
       "<style scoped>\n",
       "    .dataframe tbody tr th:only-of-type {\n",
       "        vertical-align: middle;\n",
       "    }\n",
       "\n",
       "    .dataframe tbody tr th {\n",
       "        vertical-align: top;\n",
       "    }\n",
       "\n",
       "    .dataframe thead th {\n",
       "        text-align: right;\n",
       "    }\n",
       "</style>\n",
       "<table border=\"1\" class=\"dataframe\">\n",
       "  <thead>\n",
       "    <tr style=\"text-align: right;\">\n",
       "      <th></th>\n",
       "      <th>Product Name</th>\n",
       "      <th>Number of Sales</th>\n",
       "      <th>Total Amount Sold (€)</th>\n",
       "    </tr>\n",
       "  </thead>\n",
       "  <tbody>\n",
       "    <tr>\n",
       "      <th>0</th>\n",
       "      <td>Envoy Ambassador</td>\n",
       "      <td>9591</td>\n",
       "      <td>15011642.52</td>\n",
       "    </tr>\n",
       "    <tr>\n",
       "      <th>1</th>\n",
       "      <td>Mini DV Camcorder with 3.5\" Swivel LCD</td>\n",
       "      <td>6160</td>\n",
       "      <td>8314815.40</td>\n",
       "    </tr>\n",
       "    <tr>\n",
       "      <th>2</th>\n",
       "      <td>17\" LCD w/built-in HDTV Tuner</td>\n",
       "      <td>6010</td>\n",
       "      <td>7189171.77</td>\n",
       "    </tr>\n",
       "    <tr>\n",
       "      <th>3</th>\n",
       "      <td>Home Theatre Package with DVD-Audio/Video Play</td>\n",
       "      <td>10903</td>\n",
       "      <td>6691996.81</td>\n",
       "    </tr>\n",
       "    <tr>\n",
       "      <th>4</th>\n",
       "      <td>5MP Telephoto Digital Camera</td>\n",
       "      <td>6002</td>\n",
       "      <td>6312268.40</td>\n",
       "    </tr>\n",
       "  </tbody>\n",
       "</table>\n",
       "</div>"
      ],
      "text/plain": [
       "                                     Product Name  Number of Sales  \\\n",
       "0                                Envoy Ambassador             9591   \n",
       "1          Mini DV Camcorder with 3.5\" Swivel LCD             6160   \n",
       "2                   17\" LCD w/built-in HDTV Tuner             6010   \n",
       "3  Home Theatre Package with DVD-Audio/Video Play            10903   \n",
       "4                    5MP Telephoto Digital Camera             6002   \n",
       "\n",
       "   Total Amount Sold (€)  \n",
       "0            15011642.52  \n",
       "1             8314815.40  \n",
       "2             7189171.77  \n",
       "3             6691996.81  \n",
       "4             6312268.40  "
      ]
     },
     "metadata": {},
     "output_type": "display_data"
    }
   ],
   "source": [
    "df = pd.DataFrame(rows, index=None)\n",
    "\n",
    "display(df)"
   ]
  },
  {
   "cell_type": "code",
   "execution_count": null,
   "id": "a70faf2c-9b79-4784-84f2-fb2aa654b3ea",
   "metadata": {},
   "outputs": [],
   "source": []
  }
 ],
 "metadata": {
  "kernelspec": {
   "display_name": "Python 3 (ipykernel)",
   "language": "python",
   "name": "python3"
  },
  "language_info": {
   "codemirror_mode": {
    "name": "ipython",
    "version": 3
   },
   "file_extension": ".py",
   "mimetype": "text/x-python",
   "name": "python",
   "nbconvert_exporter": "python",
   "pygments_lexer": "ipython3",
   "version": "3.11.0"
  }
 },
 "nbformat": 4,
 "nbformat_minor": 5
}
