{
 "cells": [
  {
   "cell_type": "markdown",
   "id": "d3352c79-186b-4d7b-814b-051156d42be9",
   "metadata": {},
   "source": [
    "## Routing agent with OCI GenAI and LangGraph\n",
    "\n",
    "* Implements an example of router based on OCI Cohere.\n",
    "* can be used with LangGraph"
   ]
  },
  {
   "cell_type": "code",
   "execution_count": 1,
   "id": "da1a09a4-ec0a-46cb-9052-d5d50771cf34",
   "metadata": {},
   "outputs": [],
   "source": [
    "from typing_extensions import TypedDict\n",
    "from router import Router"
   ]
  },
  {
   "cell_type": "code",
   "execution_count": 2,
   "id": "1f2f4b34-05c2-440e-b785-dbcc7e4c74a9",
   "metadata": {},
   "outputs": [],
   "source": [
    "# State: the input to the agent\n",
    "class State(TypedDict):\n",
    "    \"\"\"\n",
    "    Defines the internal state of the agent\n",
    "    \"\"\"\n",
    "\n",
    "    input: str\n",
    "    decision: str\n",
    "    output: str"
   ]
  },
  {
   "cell_type": "code",
   "execution_count": 3,
   "id": "8910cebb-5eec-4db1-b634-7b157db6bf45",
   "metadata": {},
   "outputs": [],
   "source": [
    "router = Router()"
   ]
  },
  {
   "cell_type": "markdown",
   "id": "cd7009da-fa46-4825-8b98-7455667de430",
   "metadata": {},
   "source": [
    "## test the router"
   ]
  },
  {
   "cell_type": "code",
   "execution_count": 8,
   "id": "be42956a-00b2-43e2-9348-221b96769b6a",
   "metadata": {},
   "outputs": [],
   "source": [
    "# helper function\n",
    "def test_router(query: str):\n",
    "    # set the input\n",
    "    outcome = None\n",
    "\n",
    "    try:\n",
    "        state_test = State(input=query)\n",
    "\n",
    "        outcome = router.route(state_test)\n",
    "    except Exception as e:\n",
    "        print(e)\n",
    "        outcome = {\"decision\": \"error\"}\n",
    "        \n",
    "    return outcome"
   ]
  },
  {
   "cell_type": "code",
   "execution_count": 11,
   "id": "7321cc7e-1ec2-4f98-b597-fad46499b2de",
   "metadata": {},
   "outputs": [
    {
     "name": "stdout",
     "output_type": "stream",
     "text": [
      "\n",
      "The request is:  I want information about restaurants\n",
      "Router decision is:  places_info\n",
      "\n",
      "The request is:  I need the list of the meetings of last week\n",
      "Router decision is:  meetings_info\n",
      "\n",
      "The request is:  When I have one hour free next week?\n",
      "Router decision is:  meetings_info\n",
      "\n",
      "The request is:  When was the last time I went for dentist's appointment?\n",
      "Router decision is:  meetings_info\n",
      "\n",
      "The request is:  I want to know what I don't know\n",
      "Router decision is:  not_defined\n",
      "\n",
      "The request is:  When did I meet Ansh (Young Boy)?\n",
      "Router decision is:  meetings_info\n",
      "\n",
      "The request is:  When in this week I will be free for lunch/dinner?\n",
      "Router decision is:  meetings_info\n"
     ]
    }
   ],
   "source": [
    "# test the router\n",
    "\n",
    "#\n",
    "# Battery of tests\n",
    "#\n",
    "queries = [\n",
    "    \"I want information about restaurants\",\n",
    "    \"I need the list of the meetings of last week\",\n",
    "    \"When I have one hour free next week?\",\n",
    "    \"When was the last time I went for dentist's appointment?\",\n",
    "    \"I want to know what I don't know\",\n",
    "    \"When did I meet Ansh (Young Boy)?\",\n",
    "    \"When in this week I will be free for lunch/dinner?\"\n",
    "]\n",
    "\n",
    "for query in queries:\n",
    "    print(\"\")\n",
    "    print(\"The request is: \", query)\n",
    "\n",
    "    outcome = test_router(query)\n",
    "    print(\"Router decision is: \", outcome['decision'])"
   ]
  },
  {
   "cell_type": "markdown",
   "id": "37082f1e-6463-49f8-96ab-0f17d74186ea",
   "metadata": {},
   "source": [
    "#### in another notebook we wil show how to plug this router in a LangGraph agent"
   ]
  },
  {
   "cell_type": "code",
   "execution_count": null,
   "id": "1b74caa1-ad4d-4c5e-96f2-a4e57a368416",
   "metadata": {},
   "outputs": [],
   "source": []
  }
 ],
 "metadata": {
  "kernelspec": {
   "display_name": "Python 3 (ipykernel)",
   "language": "python",
   "name": "python3"
  },
  "language_info": {
   "codemirror_mode": {
    "name": "ipython",
    "version": 3
   },
   "file_extension": ".py",
   "mimetype": "text/x-python",
   "name": "python",
   "nbconvert_exporter": "python",
   "pygments_lexer": "ipython3",
   "version": "3.11.0"
  }
 },
 "nbformat": 4,
 "nbformat_minor": 5
}
