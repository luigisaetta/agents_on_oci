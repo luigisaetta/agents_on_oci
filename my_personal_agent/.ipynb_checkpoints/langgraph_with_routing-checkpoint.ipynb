{
 "cells": [
  {
   "cell_type": "markdown",
   "id": "50386b10-1f9b-48c1-a565-532cebf41f1c",
   "metadata": {},
   "source": [
    "## LangGraph with routing\n",
    "\n",
    "In this example we show you how to create an agent with routing using:\n",
    "* **OCI Generative AI** (Cohere command-r-plus)\n",
    "* **LangGraph**\n",
    "\n",
    "The agent can take three different kinds of requests:\n",
    "* **Meetings info** \n",
    "* **Places info**\n",
    "* **Not defined**"
   ]
  },
  {
   "cell_type": "code",
   "execution_count": 1,
   "id": "8ab7b8cc-de5c-46c6-ae78-523c2961c9d4",
   "metadata": {},
   "outputs": [],
   "source": [
    "from types import SimpleNamespace\n",
    "from pydantic import BaseModel, Field\n",
    "from typing_extensions import Literal, TypedDict\n",
    "from IPython.display import Image, display, Markdown\n",
    "from langchain_core.messages import HumanMessage, SystemMessage\n",
    "from langgraph.graph import StateGraph, START, END\n",
    "\n",
    "\n",
    "# to visualize the ds returned from SQL query\n",
    "import pandas as pd\n",
    "\n",
    "from config_reader import ConfigReader\n",
    "\n",
    "# STEP_OPTIONS is the list of possible outcomes\n",
    "from router import Router, STEP_OPTIONS\n",
    "from oci_models import create_model_for_answer_directly\n",
    "from prompts_library import PROMPT_NOT_DEFINED, PROMPT_PLACES_INFO\n",
    "from utils import get_console_logger"
   ]
  },
  {
   "cell_type": "code",
   "execution_count": 2,
   "id": "b23db4aa-06ef-4490-9ef9-8693529bc310",
   "metadata": {},
   "outputs": [],
   "source": [
    "DEBUG = False\n",
    "\n",
    "# reading the configuration\n",
    "config = ConfigReader(\"config.toml\")\n",
    "\n",
    "# logging\n",
    "logger = get_console_logger()"
   ]
  },
  {
   "cell_type": "code",
   "execution_count": 3,
   "id": "ab9b5455-0994-4c57-9ec2-f2b8a6aa6c0e",
   "metadata": {},
   "outputs": [],
   "source": [
    "# agent for tools (it is a multi-agent)\n",
    "\n",
    "# router\n",
    "router = Router()\n",
    "\n",
    "# model for answer directly\n",
    "llm_d = create_model_for_answer_directly()"
   ]
  },
  {
   "cell_type": "code",
   "execution_count": 4,
   "id": "e59c2828-9d63-4ce3-afe5-019e496ed36a",
   "metadata": {},
   "outputs": [],
   "source": [
    "#\n",
    "# tools definition\n",
    "#\n",
    "# State\n",
    "class State(TypedDict):\n",
    "    \"\"\"\n",
    "    Defines the internal state of the agent\n",
    "    \"\"\"\n",
    "\n",
    "    input: str\n",
    "    decision: Literal[STEP_OPTIONS]\n",
    "    output: str\n",
    "    data: list\n",
    "    output_tool: str\n",
    "\n",
    "\n",
    "# Nodes\n",
    "def handle_meetings_info(state: State):\n",
    "    \"\"\"meetings_info\"\"\"\n",
    "\n",
    "    logger.info(\"Called handle_meetings_info...\")\n",
    "\n",
    "    result = SimpleNamespace(content=f\"This are the meetings info: meetings xyz!\")\n",
    "\n",
    "    return {\"output\": result.content, \"output_tool\": \"meetings_info\"}\n",
    "    \n",
    "def handle_places_info(state: State):\n",
    "    \"\"\"meeting_info\"\"\"\n",
    "\n",
    "    logger.info(\"Called handle_places_info...\")\n",
    "\n",
    "    messages = [\n",
    "        SystemMessage(content=PROMPT_PLACES_INFO),\n",
    "        HumanMessage(content=state[\"input\"]),\n",
    "    ]\n",
    "\n",
    "    result = llm_d.invoke(input=messages)\n",
    "\n",
    "    return {\"output\": result.content, \"output_tool\": \"places_info\"}\n",
    "    \n",
    "def handle_not_defined(state: State):\n",
    "    \"\"\"handle not_defined\"\"\"\n",
    "\n",
    "    logger.info(\"Called handle_not_defined...\")\n",
    "\n",
    "    messages = [\n",
    "        SystemMessage(content=PROMPT_NOT_DEFINED),\n",
    "        HumanMessage(content=state[\"input\"]),\n",
    "    ]\n",
    "\n",
    "    result = llm_d.invoke(input=messages)\n",
    "\n",
    "    return {\"output\": result.content, \"output_tool\": \"not_defined\"}"
   ]
  },
  {
   "cell_type": "markdown",
   "id": "07f84f4a-1f05-4c7c-b2f2-45ad4f51be76",
   "metadata": {},
   "source": [
    "#### test the router"
   ]
  },
  {
   "cell_type": "code",
   "execution_count": 5,
   "id": "2c11f3c3-33fa-48a4-9ee9-3dc09e4948ae",
   "metadata": {},
   "outputs": [
    {
     "name": "stdout",
     "output_type": "stream",
     "text": [
      "\n",
      "The request is:  I want information about restaurants\n",
      "Router decision is:  {'decision': 'places_info'}\n",
      "\n",
      "The request is:  I need the list of the meetings of last week\n",
      "Router decision is:  {'decision': 'meetings_info'}\n",
      "\n",
      "The request is:  When I have one hour free next week?\n",
      "Router decision is:  {'decision': 'meetings_info'}\n",
      "\n",
      "The request is:  When was the last time I went for dentist's appointment?\n",
      "Router decision is:  {'decision': 'meetings_info'}\n",
      "\n",
      "The request is:  I want to know what I don't know\n",
      "Router decision is:  {'decision': 'not_defined'}\n",
      "\n",
      "The request is:  When did I meet Ansh (Young Boy)?\n",
      "Router decision is:  {'decision': 'meetings_info'}\n",
      "\n",
      "The request is:  When in this week I will be free for lunch/dinner?\n",
      "Router decision is:  {'decision': 'meetings_info'}\n"
     ]
    }
   ],
   "source": [
    "def test_router(query: str):\n",
    "    # set the input\n",
    "    state_test = State(input=query)\n",
    "\n",
    "    outcome = router.route(state_test)\n",
    "\n",
    "    return outcome\n",
    "\n",
    "\n",
    "#\n",
    "# Battery of tests\n",
    "#\n",
    "queries = [\n",
    "    \"I want information about restaurants\",\n",
    "    \"I need the list of the meetings of last week\",\n",
    "    \"When I have one hour free next week?\",\n",
    "    \"When was the last time I went for dentist's appointment?\",\n",
    "    \"I want to know what I don't know\",\n",
    "    \"When did I meet Ansh (Young Boy)?\",\n",
    "    \"When in this week I will be free for lunch/dinner?\"\n",
    "]\n",
    "\n",
    "for query in queries:\n",
    "    try:\n",
    "        print(\"\")\n",
    "\n",
    "        outcome = test_router(query)\n",
    "\n",
    "        print(\"The request is: \", query)\n",
    "        print(\"Router decision is: \", outcome)\n",
    "    except Exception as e:\n",
    "        print(e)"
   ]
  },
  {
   "cell_type": "markdown",
   "id": "3730829f-cd60-46c2-ac9c-d7b86758ecf9",
   "metadata": {},
   "source": [
    "### define the graph of the agent"
   ]
  },
  {
   "cell_type": "code",
   "execution_count": 6,
   "id": "3ca06708-6658-4ec7-b5a9-939f01df1db6",
   "metadata": {},
   "outputs": [],
   "source": [
    "# Conditional edge function to route to the appropriate node\n",
    "def route_decision(state: State):\n",
    "    \"\"\"\n",
    "    return only the next step name\n",
    "    \"\"\"\n",
    "    return state[\"decision\"]\n",
    "\n",
    "\n",
    "# the aggregator\n",
    "def aggregator(state: State):\n",
    "    \"\"\"Aggregate and refine the output\"\"\"\n",
    "\n",
    "    # for now, only logging\n",
    "    logger.info(\"aggregator: Aggregating outputs...\")\n",
    "\n",
    "\n",
    "# Build workflow graph\n",
    "router_builder = StateGraph(State)\n",
    "\n",
    "# Add nodes\n",
    "router_builder.add_node(\"handle_meetings_info\", handle_meetings_info)\n",
    "router_builder.add_node(\"handle_places_info\", handle_places_info)\n",
    "router_builder.add_node(\"handle_not_defined\", handle_not_defined)\n",
    "\n",
    "router_builder.add_node(\"aggregator\", aggregator)\n",
    "router_builder.add_node(\"router\", router.route)\n",
    "\n",
    "# Add edges to connect nodes\n",
    "router_builder.add_edge(START, \"router\")\n",
    "\n",
    "router_builder.add_conditional_edges(\n",
    "    \"router\",\n",
    "    route_decision,\n",
    "    {  # Name returned by route_decision : Name of next node to visit\n",
    "        \"places_info\": \"handle_places_info\",\n",
    "        \"meetings_info\": \"handle_meetings_info\",\n",
    "        \"not_defined\": \"handle_not_defined\",\n",
    "    },\n",
    ")\n",
    "\n",
    "router_builder.add_edge(\"handle_places_info\", \"aggregator\")\n",
    "router_builder.add_edge(\"handle_meetings_info\", \"aggregator\")\n",
    "router_builder.add_edge(\"handle_not_defined\", \"aggregator\")\n",
    "router_builder.add_edge(\"aggregator\", END)\n",
    "\n",
    "# Compile workflow\n",
    "router_workflow = router_builder.compile()"
   ]
  },
  {
   "cell_type": "code",
   "execution_count": 7,
   "id": "6d7c9d2f-5210-4f27-9935-1baecf21e1f0",
   "metadata": {},
   "outputs": [
    {
     "data": {
      "image/png": "[encoded data removed]",
      "text/plain": [
       "<IPython.core.display.Image object>"
      ]
     },
     "metadata": {},
     "output_type": "display_data"
    }
   ],
   "source": [
    "# Show the workflow\n",
    "display(Image(router_workflow.get_graph().draw_mermaid_png()))"
   ]
  },
  {
   "cell_type": "markdown",
   "id": "1d540561-5bae-4384-8422-771f70a633fc",
   "metadata": {},
   "source": [
    "### Tests"
   ]
  },
  {
   "cell_type": "code",
   "execution_count": 8,
   "id": "c0b9a0c5-a02b-4b96-88b7-3a0f8a4f8407",
   "metadata": {},
   "outputs": [],
   "source": [
    "# function to simplify the tests\n",
    "def test_workflow(query: str):\n",
    "    state = router_workflow.invoke({\"input\": query})\n",
    "\n",
    "    if DEBUG:\n",
    "        print(state)\n",
    "\n",
    "    return state[\"output\"], state[\"output_tool\"]"
   ]
  },
  {
   "cell_type": "markdown",
   "id": "ae500b64-2a6f-458b-a17d-ceba9bafb619",
   "metadata": {},
   "source": [
    "### Meeting info"
   ]
  },
  {
   "cell_type": "code",
   "execution_count": 9,
   "id": "ef2c0dee-2df0-4b1f-89c0-f10d78f5913e",
   "metadata": {},
   "outputs": [
    {
     "name": "stderr",
     "output_type": "stream",
     "text": [
      "2025-02-27 21:48:51,368 - Called handle_meetings_info...\n",
      "2025-02-27 21:48:51,370 - aggregator: Aggregating outputs...\n"
     ]
    },
    {
     "name": "stdout",
     "output_type": "stream",
     "text": [
      "This are the meetings info: meetings xyz!\n"
     ]
    }
   ],
   "source": [
    "query = \"\"\"Send me the details of meeting with that Synergy company?\"\"\"\n",
    "\n",
    "outcome, output_tool = test_workflow(query)\n",
    "\n",
    "# output tool enable to adapt the way the output is shown\n",
    "if output_tool == \"meetings_info\":\n",
    "    print(outcome)"
   ]
  },
  {
   "cell_type": "markdown",
   "id": "2da2660d-c202-4f2d-b662-fb0ee5f8268c",
   "metadata": {},
   "source": [
    "### Places info"
   ]
  },
  {
   "cell_type": "code",
   "execution_count": 10,
   "id": "cb8b6ff1-f9ed-411a-882b-8b167b26c38e",
   "metadata": {},
   "outputs": [
    {
     "name": "stderr",
     "output_type": "stream",
     "text": [
      "2025-02-27 21:48:58,150 - Called handle_places_info...\n",
      "2025-02-27 21:49:05,623 - aggregator: Aggregating outputs...\n"
     ]
    },
    {
     "data": {
      "text/markdown": [
       "### Top 10 Chinese Restaurants in London\n",
       "To provide you with an accurate list, I would like to clarify that the ranking of top Chinese restaurants can vary depending on personal preferences, reviews, and ratings. However, based on general reviews and ratings, here is a list of 10 highly-recommended Chinese restaurants in London:\n",
       "\n",
       "1. **Din Tai Fung**: A popular Taiwanese restaurant with a Michelin star, known for its xiaolongbao and other Taiwanese dishes.\n",
       "2. **Hakkasan**: A high-end Chinese restaurant with a Michelin star, offering modern Cantonese cuisine.\n",
       "3. **Xu**: A Taiwanese restaurant in Soho, serving traditional dishes with a modern twist.\n",
       "4. **Park Chinois**: A luxurious Chinese restaurant in Mayfair, offering a range of Cantonese and Szechuan dishes.\n",
       "5. **The Delaunay**: A grand café serving Chinese and European-inspired dishes, including dim sum and noodles.\n",
       "6. **Min Jiang**: A Chinese restaurant located in the Royal Garden Hotel, offering Szechuan and Cantonese cuisine.\n",
       "7. **Chai Wu**: A modern Chinese restaurant in Harrods, serving a range of dishes including dim sum and noodles.\n",
       "8. **Golden Dragon**: A traditional Chinese restaurant in Chinatown, offering a range of Cantonese dishes.\n",
       "9. **Jen Cafe**: A family-run Chinese restaurant in Chinatown, serving traditional dishes including roast meats and noodles.\n",
       "10. **Four Seasons**: A popular Chinese restaurant with multiple locations in London, offering a range of Cantonese dishes including roast meats and dim sum.\n",
       "\n",
       "### Please note:\n",
       "This list is subject to change and may not reflect the current ranking or availability of these restaurants. I recommend checking reviews and making reservations in advance to ensure a smooth dining experience.\n",
       "\n",
       "If you have any specific preferences (e.g. location, cuisine type, price range), I would be happy to provide a more tailored list."
      ],
      "text/plain": [
       "<IPython.core.display.Markdown object>"
      ]
     },
     "metadata": {},
     "output_type": "display_data"
    }
   ],
   "source": [
    "query = \"Send me list of the top 10 chinese restaurants in London\"\n",
    "\n",
    "outcome, output_tool = test_workflow(query)\n",
    "\n",
    "if output_tool == \"places_info\":\n",
    "    display(Markdown(outcome))"
   ]
  },
  {
   "cell_type": "markdown",
   "id": "1947eb62-b9ba-4483-a4f7-7d122f816638",
   "metadata": {},
   "source": [
    "### not defined"
   ]
  },
  {
   "cell_type": "code",
   "execution_count": 11,
   "id": "cab514a7-c4b8-46f1-817e-76d0e3a576fe",
   "metadata": {},
   "outputs": [
    {
     "name": "stderr",
     "output_type": "stream",
     "text": [
      "2025-02-27 21:49:24,031 - Called handle_not_defined...\n",
      "2025-02-27 21:49:25,814 - aggregator: Aggregating outputs...\n"
     ]
    },
    {
     "data": {
      "text/markdown": [
       "### Reported Question\n",
       "The user's question is: \"I want to ask something but I don't have a clear idea\".\n",
       "\n",
       "### Request for Clarification\n",
       "To better assist you, could you please provide more context or information about the topic you are interested in? This will help me narrow down the possibilities and provide a more accurate response. What general area or subject are you thinking of inquiring about (e.g., technology, science, history, etc.)?"
      ],
      "text/plain": [
       "<IPython.core.display.Markdown object>"
      ]
     },
     "metadata": {},
     "output_type": "display_data"
    }
   ],
   "source": [
    "query = \"I want to ask something but I don't have a clear idea\"\n",
    "\n",
    "outcome, output_tool = test_workflow(query)\n",
    "\n",
    "if output_tool == \"not_defined\":\n",
    "    display(Markdown(outcome))"
   ]
  },
  {
   "cell_type": "code",
   "execution_count": null,
   "id": "f0d5acd8-8cf2-4fe9-abca-fd7b6fde5091",
   "metadata": {},
   "outputs": [],
   "source": []
  }
 ],
 "metadata": {
  "kernelspec": {
   "display_name": "Python 3 (ipykernel)",
   "language": "python",
   "name": "python3"
  },
  "language_info": {
   "codemirror_mode": {
    "name": "ipython",
    "version": 3
   },
   "file_extension": ".py",
   "mimetype": "text/x-python",
   "name": "python",
   "nbconvert_exporter": "python",
   "pygments_lexer": "ipython3",
   "version": "3.11.0"
  }
 },
 "nbformat": 4,
 "nbformat_minor": 5
}
