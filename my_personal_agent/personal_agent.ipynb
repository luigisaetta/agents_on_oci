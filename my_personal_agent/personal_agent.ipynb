{
 "cells": [
  {
   "cell_type": "markdown",
   "id": "50386b10-1f9b-48c1-a565-532cebf41f1c",
   "metadata": {},
   "source": [
    "## A Personal Agent\n",
    "\n",
    "In this example we show you how to create an agent with routing using:\n",
    "* **OCI Generative AI** (Cohere command-r-plus, Llama 3.3 70B)\n",
    "* **LangGraph**\n",
    "\n",
    "The agent can take four different kinds of requests:\n",
    "* **Meetings info** \n",
    "* **Places info**\n",
    "* **Not defined**\n",
    "* **set a meeting**"
   ]
  },
  {
   "cell_type": "code",
   "execution_count": 1,
   "id": "8ab7b8cc-de5c-46c6-ae78-523c2961c9d4",
   "metadata": {},
   "outputs": [],
   "source": [
    "from types import SimpleNamespace\n",
    "from pydantic import BaseModel, Field\n",
    "from typing_extensions import Literal, TypedDict\n",
    "from IPython.display import Image, display, Markdown\n",
    "from langchain_core.messages import HumanMessage, SystemMessage\n",
    "from langgraph.graph import StateGraph, START, END\n",
    "\n",
    "from config_reader import ConfigReader\n",
    "\n",
    "# STEP_OPTIONS is the list of possible outcomes\n",
    "from router import Router, STEP_OPTIONS\n",
    "from oci_models import create_model_for_answer_directly\n",
    "from prompts_library import PROMPT_NOT_DEFINED, PROMPT_PLACES_INFO, PROMPT_MEETINGS_INFO\n",
    "from utils import get_console_logger, extract_dates_from_json_string\n",
    "\n",
    "from meetings_api import appointments_dict, filter_appointments, find_free_slots\n",
    "from meetings_info import MeetingInfo\n",
    "from places_info import PlacesInfo"
   ]
  },
  {
   "cell_type": "markdown",
   "id": "8b18283b-8622-4af7-852e-0c3f98f00dc4",
   "metadata": {},
   "source": [
    "#### quick test of the meetings API"
   ]
  },
  {
   "cell_type": "code",
   "execution_count": 2,
   "id": "253b0b9f-632d-4e32-8a64-a6b838524bde",
   "metadata": {},
   "outputs": [
    {
     "data": {
      "text/plain": [
       "[{'date': '2025-02-28',\n",
       "  'start_time': '10:00',\n",
       "  'end_time': '12:00',\n",
       "  'participants': ['Robert Johnson', 'Michael Wilson', 'John Doe'],\n",
       "  'notes': 'Planning Session'}]"
      ]
     },
     "execution_count": 2,
     "metadata": {},
     "output_type": "execute_result"
    }
   ],
   "source": [
    "filter_appointments(appointments_dict['appointments'], \"2025-02-28\")"
   ]
  },
  {
   "cell_type": "code",
   "execution_count": 3,
   "id": "e7c8a705-f5f0-478e-a77b-670174152419",
   "metadata": {},
   "outputs": [
    {
     "name": "stdout",
     "output_type": "stream",
     "text": [
      "\n",
      "Free time slots for 2025-02-28:\n",
      "2025-02-28: ['8:00 - 10:00', '12:00 - 18:00']\n"
     ]
    }
   ],
   "source": [
    "free_slots = find_free_slots(appointments_dict[\"appointments\"], \"2025-02-28\", None)\n",
    "\n",
    "print(\"\\nFree time slots for 2025-02-28:\")\n",
    "for date, slots in free_slots.items():\n",
    "    print(f\"{date}: {slots}\")"
   ]
  },
  {
   "cell_type": "code",
   "execution_count": 4,
   "id": "b23db4aa-06ef-4490-9ef9-8693529bc310",
   "metadata": {},
   "outputs": [],
   "source": [
    "DEBUG = False\n",
    "\n",
    "# reading the configuration\n",
    "config = ConfigReader(\"config.toml\")\n",
    "\n",
    "# logging\n",
    "logger = get_console_logger()"
   ]
  },
  {
   "cell_type": "code",
   "execution_count": 5,
   "id": "ab9b5455-0994-4c57-9ec2-f2b8a6aa6c0e",
   "metadata": {},
   "outputs": [],
   "source": [
    "# agent for tools (it is a multi-agent)\n",
    "\n",
    "# router\n",
    "router = Router()\n",
    "\n",
    "# model for answer directly\n",
    "AD_MODEL_ID = config.find_key(\"ad_model_id\")\n",
    "\n",
    "llm_d = create_model_for_answer_directly()"
   ]
  },
  {
   "cell_type": "code",
   "execution_count": 6,
   "id": "e59c2828-9d63-4ce3-afe5-019e496ed36a",
   "metadata": {},
   "outputs": [],
   "source": [
    "#\n",
    "# tools definition\n",
    "#\n",
    "# State\n",
    "class State(TypedDict):\n",
    "    \"\"\"\n",
    "    Defines the internal state of the agent\n",
    "    \"\"\"\n",
    "\n",
    "    input: str\n",
    "    decision: Literal[STEP_OPTIONS]\n",
    "    output: str\n",
    "    data: list\n",
    "    output_tool: str\n",
    "\n",
    "\n",
    "# Nodes\n",
    "\n",
    "\n",
    "def handle_set_meeting(state: State):\n",
    "    \"\"\"set_meeting\"\"\"\n",
    "\n",
    "    logger.info(\"Called handle_set_meeting...\")\n",
    "\n",
    "    return {\"output\": \"meeting set\", \"output_tool\": \"set_meeting\"}\n",
    "\n",
    "\n",
    "        \n",
    "def handle_not_defined(state: State):\n",
    "    \"\"\"handle not_defined\"\"\"\n",
    "\n",
    "    logger.info(\"Called handle_not_defined...\")\n",
    "\n",
    "    messages = [\n",
    "        SystemMessage(content=PROMPT_NOT_DEFINED),\n",
    "        HumanMessage(content=state[\"input\"]),\n",
    "    ]\n",
    "\n",
    "    result = llm_d.invoke(input=messages)\n",
    "\n",
    "    return {\"output\": result.content, \"output_tool\": \"not_defined\"}"
   ]
  },
  {
   "cell_type": "markdown",
   "id": "07f84f4a-1f05-4c7c-b2f2-45ad4f51be76",
   "metadata": {},
   "source": [
    "#### test the router"
   ]
  },
  {
   "cell_type": "code",
   "execution_count": 9,
   "id": "2c11f3c3-33fa-48a4-9ee9-3dc09e4948ae",
   "metadata": {},
   "outputs": [
    {
     "name": "stdout",
     "output_type": "stream",
     "text": [
      "\n",
      "The request is:  I want information about restaurants in London\n",
      "Router decision is:  {'decision': 'places_info'}\n",
      "\n",
      "The request is:  I need the list of the meetings of last week\n",
      "Router decision is:  {'decision': 'meetings_info'}\n",
      "\n",
      "The request is:  When I have one hour free next week?\n",
      "Router decision is:  {'decision': 'meetings_info'}\n",
      "\n",
      "The request is:  I want to know what I don't know\n",
      "Router decision is:  {'decision': 'not_defined'}\n",
      "\n",
      "The request is:  When in this week I will be free for lunch/dinner?\n",
      "Router decision is:  {'decision': 'meetings_info'}\n",
      "\n",
      "The request is:  Give me all the free slot for 2025-02-28\n",
      "Router decision is:  {'decision': 'meetings_info'}\n",
      "\n",
      "The request is:  Give me all the available slot for 2025-02-26\n",
      "Router decision is:  {'decision': 'meetings_info'}\n",
      "\n",
      "The request is:  Please book a meeting slot for 2025-03-10 11 AM\n",
      "Router decision is:  {'decision': 'set_meeting'}\n",
      "\n",
      "The request is:  Set a meeting with Ansh for today 11 AM\n",
      "Router decision is:  {'decision': 'set_meeting'}\n"
     ]
    }
   ],
   "source": [
    "def test_router(query: str):\n",
    "    # set the input\n",
    "    state_test = State(input=query)\n",
    "\n",
    "    outcome = router.route(state_test)\n",
    "\n",
    "    return outcome\n",
    "\n",
    "\n",
    "#\n",
    "# Battery of tests\n",
    "#\n",
    "queries = [\n",
    "    \"I want information about restaurants in London\",\n",
    "    \"I need the list of the meetings of last week\",\n",
    "    \"When I have one hour free next week?\",\n",
    "    \"I want to know what I don't know\",\n",
    "    \"When in this week I will be free for lunch/dinner?\",\n",
    "    \"Give me all the free slot for 2025-02-28\",\n",
    "    \"Give me all the available slot for 2025-02-26\",\n",
    "    \"Please book a meeting slot for 2025-03-10 11 AM\",\n",
    "    \"Set a meeting with Ansh for today 11 AM\"\n",
    "]\n",
    "\n",
    "for query in queries:\n",
    "    try:\n",
    "        print(\"\")\n",
    "\n",
    "        outcome = test_router(query)\n",
    "\n",
    "        print(\"The request is: \", query)\n",
    "        print(\"Router decision is: \", outcome)\n",
    "    except Exception as e:\n",
    "        print(e)"
   ]
  },
  {
   "cell_type": "markdown",
   "id": "3730829f-cd60-46c2-ac9c-d7b86758ecf9",
   "metadata": {},
   "source": [
    "### define the graph of the agent"
   ]
  },
  {
   "cell_type": "code",
   "execution_count": 10,
   "id": "3ca06708-6658-4ec7-b5a9-939f01df1db6",
   "metadata": {},
   "outputs": [],
   "source": [
    "# Conditional edge function to route to the appropriate node\n",
    "def route_decision(state: State):\n",
    "    \"\"\"\n",
    "    return only the next step name\n",
    "    \"\"\"\n",
    "    return state[\"decision\"]\n",
    "\n",
    "\n",
    "# the aggregator\n",
    "def aggregator(state: State):\n",
    "    \"\"\"Aggregate and refine the output\"\"\"\n",
    "\n",
    "    # for now, only logging\n",
    "    logger.info(\"aggregator: Aggregating outputs...\")\n",
    "\n",
    "    # would need to work on state output\n",
    "\n",
    "# Build workflow graph\n",
    "router_builder = StateGraph(State)\n",
    "\n",
    "# create the nodes with logic\n",
    "meetings_info = MeetingInfo()\n",
    "places_info = PlacesInfo()\n",
    "\n",
    "# Add nodes\n",
    "router_builder.add_node(\"meetings_info\", meetings_info)\n",
    "router_builder.add_node(\"places_info\", places_info)\n",
    "router_builder.add_node(\"handle_set_meeting\", handle_set_meeting)\n",
    "router_builder.add_node(\"handle_not_defined\", handle_not_defined)\n",
    "\n",
    "router_builder.add_node(\"aggregator\", aggregator)\n",
    "router_builder.add_node(\"router\", router.route)\n",
    "\n",
    "# Add edges to connect nodes\n",
    "router_builder.add_edge(START, \"router\")\n",
    "\n",
    "router_builder.add_conditional_edges(\n",
    "    \"router\",\n",
    "    route_decision,\n",
    "    {  # Name returned by route_decision : Name of next node to visit\n",
    "        \"places_info\": \"places_info\",\n",
    "        \"meetings_info\": \"meetings_info\",\n",
    "        \"set_meeting\": \"handle_set_meeting\",\n",
    "        \"not_defined\": \"handle_not_defined\",\n",
    "    },\n",
    ")\n",
    "\n",
    "router_builder.add_edge(\"places_info\", \"aggregator\")\n",
    "router_builder.add_edge(\"meetings_info\", \"aggregator\")\n",
    "router_builder.add_edge(\"handle_set_meeting\", \"aggregator\")\n",
    "router_builder.add_edge(\"handle_not_defined\", \"aggregator\")\n",
    "router_builder.add_edge(\"aggregator\", END)\n",
    "\n",
    "# Compile workflow\n",
    "router_workflow = router_builder.compile()"
   ]
  },
  {
   "cell_type": "code",
   "execution_count": 11,
   "id": "6d7c9d2f-5210-4f27-9935-1baecf21e1f0",
   "metadata": {},
   "outputs": [
    {
     "data": {
      "image/png": "[encoded data removed]",
      "text/plain": [
       "<IPython.core.display.Image object>"
      ]
     },
     "metadata": {},
     "output_type": "display_data"
    }
   ],
   "source": [
    "# Show the workflow\n",
    "display(Image(router_workflow.get_graph().draw_mermaid_png()))"
   ]
  },
  {
   "cell_type": "markdown",
   "id": "1d540561-5bae-4384-8422-771f70a633fc",
   "metadata": {},
   "source": [
    "### Tests"
   ]
  },
  {
   "cell_type": "code",
   "execution_count": 12,
   "id": "c0b9a0c5-a02b-4b96-88b7-3a0f8a4f8407",
   "metadata": {},
   "outputs": [],
   "source": [
    "# function to simplify the tests\n",
    "def test_workflow(query: str):\n",
    "    state = router_workflow.invoke({\"input\": query})\n",
    "\n",
    "    return state[\"output\"], state[\"output_tool\"]"
   ]
  },
  {
   "cell_type": "markdown",
   "id": "ae500b64-2a6f-458b-a17d-ceba9bafb619",
   "metadata": {},
   "source": [
    "### Meeting info"
   ]
  },
  {
   "cell_type": "code",
   "execution_count": 13,
   "id": "ef2c0dee-2df0-4b1f-89c0-f10d78f5913e",
   "metadata": {},
   "outputs": [
    {
     "name": "stderr",
     "output_type": "stream",
     "text": [
      "2025-02-28 09:36:15,510 - Calling MeetingInfo\n",
      "2025-02-28 09:36:16,578 - aggregator: Aggregating outputs...\n"
     ]
    },
    {
     "name": "stdout",
     "output_type": "stream",
     "text": [
      "\n",
      "Free meetings slots found:\n",
      "{'2025-02-26': ['8:00 - 13:00', '15:00 - 18:00']}\n"
     ]
    }
   ],
   "source": [
    "query = \"\"\"Give me all the free slot for 2025-02-26\"\"\"\n",
    "\n",
    "outcome, output_tool = test_workflow(query)\n",
    "\n",
    "# output tool enable to adapt the way the output is shown\n",
    "if output_tool == \"meetings_info\":\n",
    "    print(\"\")\n",
    "    print(\"Free meetings slots found:\")\n",
    "    print(outcome)"
   ]
  },
  {
   "cell_type": "code",
   "execution_count": 14,
   "id": "2dd267f9-0037-4715-82f9-176fd93fe7e7",
   "metadata": {},
   "outputs": [
    {
     "name": "stderr",
     "output_type": "stream",
     "text": [
      "2025-02-28 09:36:23,012 - Calling MeetingInfo\n",
      "2025-02-28 09:36:23,933 - aggregator: Aggregating outputs...\n"
     ]
    },
    {
     "name": "stdout",
     "output_type": "stream",
     "text": [
      "\n",
      "Free meetings slots found:\n",
      "{'2025-03-09': ['8:00 - 13:00', '15:00 - 18:00']}\n"
     ]
    }
   ],
   "source": [
    "query = \"\"\"Show me the free slot for 2025-03-09\"\"\"\n",
    "\n",
    "outcome, output_tool = test_workflow(query)\n",
    "\n",
    "# output tool enable to adapt the way the output is shown\n",
    "if output_tool == \"meetings_info\":\n",
    "    print(\"\")\n",
    "    print(\"Free meetings slots found:\")\n",
    "    print(outcome)"
   ]
  },
  {
   "cell_type": "code",
   "execution_count": 15,
   "id": "b9c578f0-91f9-4db3-92ae-0c2bfa293c83",
   "metadata": {},
   "outputs": [
    {
     "name": "stderr",
     "output_type": "stream",
     "text": [
      "2025-02-28 09:36:27,420 - Calling MeetingInfo\n",
      "2025-02-28 09:36:28,331 - aggregator: Aggregating outputs...\n"
     ]
    },
    {
     "name": "stdout",
     "output_type": "stream",
     "text": [
      "\n",
      "Free meetings slots found:\n",
      "{'2025-03-08': ['8:00 - 18:00'], '2025-03-09': ['8:00 - 13:00', '15:00 - 18:00']}\n"
     ]
    }
   ],
   "source": [
    "query = \"\"\"Give me all the available slot from 2025-03-08 to 2025-03-09\"\"\"\n",
    "\n",
    "outcome, output_tool = test_workflow(query)\n",
    "\n",
    "# output tool enable to adapt the way the output is shown\n",
    "if output_tool == \"meetings_info\":\n",
    "    print(\"\")\n",
    "    print(\"Free meetings slots found:\")\n",
    "    print(outcome)"
   ]
  },
  {
   "cell_type": "markdown",
   "id": "2da2660d-c202-4f2d-b662-fb0ee5f8268c",
   "metadata": {},
   "source": [
    "### Places info"
   ]
  },
  {
   "cell_type": "code",
   "execution_count": 17,
   "id": "cb8b6ff1-f9ed-411a-882b-8b167b26c38e",
   "metadata": {},
   "outputs": [
    {
     "name": "stderr",
     "output_type": "stream",
     "text": [
      "2025-02-28 09:36:53,021 - Calling PlacesInfo\n",
      "2025-02-28 09:36:58,316 - aggregator: Aggregating outputs...\n"
     ]
    },
    {
     "data": {
      "text/markdown": [
       "### Top 10 Chinese Restaurants in Rome\n",
       "To provide you with an accurate list of the top 10 Chinese restaurants in Rome, I would need more information about your preferences, such as:\n",
       "* Type of Chinese cuisine (e.g. Sichuan, Cantonese, etc.)\n",
       "* Location within Rome\n",
       "* Price range\n",
       "* Any specific amenities or services you are looking for (e.g. delivery, outdoor seating, etc.)\n",
       "\n",
       "However, I can suggest some popular Chinese restaurants in Rome that are highly rated by reviewers:\n",
       "1. **Ristorante Cina**: Known for its traditional Chinese dishes and cozy atmosphere.\n",
       "2. **China Town**: Offers a wide variety of Chinese cuisine, including Sichuan and Cantonese options.\n",
       "3. **Ristorante Peking**: Specializes in Peking-style cuisine, including roast duck and noodles.\n",
       "4. **New China**: A modern Chinese restaurant with a focus on fresh ingredients and creative dishes.\n",
       "5. **Ristorante Shanghai**: Serves traditional Shanghai-style cuisine, including dumplings and noodles.\n",
       "\n",
       "Please note that this is not an exhaustive list, and ratings can change over time. I recommend checking review websites such as TripAdvisor or Google for the most up-to-date information.\n",
       "\n",
       "If you could provide more specific information about your preferences, I would be happy to try and provide a more tailored list of recommendations."
      ],
      "text/plain": [
       "<IPython.core.display.Markdown object>"
      ]
     },
     "metadata": {},
     "output_type": "display_data"
    }
   ],
   "source": [
    "query = \"Give me the list of the top 10 chinese restaurants in Rome\"\n",
    "\n",
    "outcome, output_tool = test_workflow(query)\n",
    "\n",
    "if output_tool == \"places_info\":\n",
    "    display(Markdown(outcome))"
   ]
  },
  {
   "cell_type": "markdown",
   "id": "1947eb62-b9ba-4483-a4f7-7d122f816638",
   "metadata": {},
   "source": [
    "### not defined"
   ]
  },
  {
   "cell_type": "code",
   "execution_count": 18,
   "id": "cab514a7-c4b8-46f1-817e-76d0e3a576fe",
   "metadata": {},
   "outputs": [
    {
     "name": "stderr",
     "output_type": "stream",
     "text": [
      "2025-02-28 09:37:01,216 - Called handle_not_defined...\n",
      "2025-02-28 09:37:03,118 - aggregator: Aggregating outputs...\n"
     ]
    },
    {
     "data": {
      "text/markdown": [
       "### Reported Question\n",
       "The user's question is: I want to ask something but I don't have a clear idea.\n",
       "\n",
       "### Request for Clarification\n",
       "To better assist you, could you please provide more context or details about the topic you are interested in? This will help me narrow down the possibilities and provide a more accurate response. What general area or subject are you thinking of inquiring about (e.g., technology, education, health, etc.)?"
      ],
      "text/plain": [
       "<IPython.core.display.Markdown object>"
      ]
     },
     "metadata": {},
     "output_type": "display_data"
    }
   ],
   "source": [
    "query = \"I want to ask something but I don't have a clear idea\"\n",
    "\n",
    "outcome, output_tool = test_workflow(query)\n",
    "\n",
    "if output_tool == \"not_defined\":\n",
    "    display(Markdown(outcome))"
   ]
  },
  {
   "cell_type": "code",
   "execution_count": null,
   "id": "f0d5acd8-8cf2-4fe9-abca-fd7b6fde5091",
   "metadata": {},
   "outputs": [],
   "source": []
  }
 ],
 "metadata": {
  "kernelspec": {
   "display_name": "Python 3 (ipykernel)",
   "language": "python",
   "name": "python3"
  },
  "language_info": {
   "codemirror_mode": {
    "name": "ipython",
    "version": 3
   },
   "file_extension": ".py",
   "mimetype": "text/x-python",
   "name": "python",
   "nbconvert_exporter": "python",
   "pygments_lexer": "ipython3",
   "version": "3.11.0"
  }
 },
 "nbformat": 4,
 "nbformat_minor": 5
}
