{
 "cells": [
  {
   "cell_type": "markdown",
   "id": "50386b10-1f9b-48c1-a565-532cebf41f1c",
   "metadata": {},
   "source": [
    "## A Personal Agent\n",
    "\n",
    "In this example we show you how to create an agent with routing using:\n",
    "* **OCI Generative AI** (Cohere command-r-plus, Llama 3.3 70B)\n",
    "* **LangGraph**\n",
    "\n",
    "The agent can take four different kinds of requests:\n",
    "* **Meetings info** \n",
    "* **Places info**\n",
    "* **Not defined**\n",
    "* **Set a meeting**"
   ]
  },
  {
   "cell_type": "code",
   "execution_count": 1,
   "id": "8ab7b8cc-de5c-46c6-ae78-523c2961c9d4",
   "metadata": {},
   "outputs": [],
   "source": [
    "from types import SimpleNamespace\n",
    "from pydantic import BaseModel, Field\n",
    "from typing_extensions import Literal, TypedDict\n",
    "from IPython.display import Image, display, Markdown\n",
    "from langchain_core.messages import HumanMessage, SystemMessage\n",
    "from langgraph.graph import StateGraph, START, END\n",
    "\n",
    "from config_reader import ConfigReader\n",
    "\n",
    "# STEP_OPTIONS is the list of possible outcomes\n",
    "from router import Router, STEP_OPTIONS\n",
    "\n",
    "# classes with handling logic (for nodes)\n",
    "from meetings_info import MeetingsInfo\n",
    "from places_info import PlacesInfo\n",
    "from not_defined import NotDefined\n",
    "from set_meeting import SetMeeting\n",
    "\n",
    "from utils import get_console_logger"
   ]
  },
  {
   "cell_type": "code",
   "execution_count": 2,
   "id": "b23db4aa-06ef-4490-9ef9-8693529bc310",
   "metadata": {},
   "outputs": [],
   "source": [
    "DEBUG = False\n",
    "\n",
    "# reading the configuration\n",
    "config = ConfigReader(\"config.toml\")\n",
    "\n",
    "# logging\n",
    "logger = get_console_logger()"
   ]
  },
  {
   "cell_type": "code",
   "execution_count": 3,
   "id": "ab9b5455-0994-4c57-9ec2-f2b8a6aa6c0e",
   "metadata": {},
   "outputs": [],
   "source": [
    "# agent for tools (it is a multi-agent)\n",
    "\n",
    "# router\n",
    "router = Router()"
   ]
  },
  {
   "cell_type": "code",
   "execution_count": 4,
   "id": "e59c2828-9d63-4ce3-afe5-019e496ed36a",
   "metadata": {},
   "outputs": [],
   "source": [
    "#\n",
    "# State of the agent definition\n",
    "#\n",
    "class State(TypedDict):\n",
    "    \"\"\"\n",
    "    Defines the internal state of the agent\n",
    "    \"\"\"\n",
    "\n",
    "    input: str\n",
    "    decision: Literal[STEP_OPTIONS]\n",
    "    output: str\n",
    "    data: list\n",
    "    output_tool: str"
   ]
  },
  {
   "cell_type": "markdown",
   "id": "07f84f4a-1f05-4c7c-b2f2-45ad4f51be76",
   "metadata": {},
   "source": [
    "#### test the router"
   ]
  },
  {
   "cell_type": "code",
   "execution_count": 5,
   "id": "2c11f3c3-33fa-48a4-9ee9-3dc09e4948ae",
   "metadata": {},
   "outputs": [
    {
     "name": "stdout",
     "output_type": "stream",
     "text": [
      "\n",
      "The request is:  I want information about restaurants in London\n",
      "Router decision is:  {'decision': 'places_info'}\n",
      "\n",
      "The request is:  I need the list of the meetings of last week\n",
      "Router decision is:  {'decision': 'meetings_info'}\n",
      "\n",
      "The request is:  When I have one hour free next week?\n",
      "Router decision is:  {'decision': 'meetings_info'}\n",
      "\n",
      "The request is:  I want to know what I don't know\n",
      "Router decision is:  {'decision': 'not_defined'}\n",
      "\n",
      "The request is:  When in this week I will be free for lunch/dinner?\n",
      "Router decision is:  {'decision': 'meetings_info'}\n",
      "\n",
      "The request is:  Give me all the free slot for 2025-02-28\n",
      "Router decision is:  {'decision': 'meetings_info'}\n",
      "\n",
      "The request is:  Give me all the available slot for 2025-02-26\n",
      "Router decision is:  {'decision': 'meetings_info'}\n",
      "\n",
      "The request is:  Please book a meeting slot for 2025-03-10 11 AM\n",
      "Router decision is:  {'decision': 'set_meeting'}\n",
      "\n",
      "The request is:  Set a meeting with Ansh for today 11 AM\n",
      "Router decision is:  {'decision': 'set_meeting'}\n"
     ]
    }
   ],
   "source": [
    "def test_router(query: str):\n",
    "    # set the input\n",
    "    state_test = State(input=query)\n",
    "\n",
    "    outcome = router.route(state_test)\n",
    "\n",
    "    return outcome\n",
    "\n",
    "\n",
    "#\n",
    "# Battery of tests\n",
    "#\n",
    "queries = [\n",
    "    \"I want information about restaurants in London\",\n",
    "    \"I need the list of the meetings of last week\",\n",
    "    \"When I have one hour free next week?\",\n",
    "    \"I want to know what I don't know\",\n",
    "    \"When in this week I will be free for lunch/dinner?\",\n",
    "    \"Give me all the free slot for 2025-02-28\",\n",
    "    \"Give me all the available slot for 2025-02-26\",\n",
    "    \"Please book a meeting slot for 2025-03-10 11 AM\",\n",
    "    \"Set a meeting with Ansh for today 11 AM\"\n",
    "]\n",
    "\n",
    "for query in queries:\n",
    "    try:\n",
    "        print(\"\")\n",
    "\n",
    "        outcome = test_router(query)\n",
    "\n",
    "        print(\"The request is: \", query)\n",
    "        print(\"Router decision is: \", outcome)\n",
    "    except Exception as e:\n",
    "        print(e)"
   ]
  },
  {
   "cell_type": "markdown",
   "id": "3730829f-cd60-46c2-ac9c-d7b86758ecf9",
   "metadata": {},
   "source": [
    "### define the graph of the agent"
   ]
  },
  {
   "cell_type": "code",
   "execution_count": 6,
   "id": "3ca06708-6658-4ec7-b5a9-939f01df1db6",
   "metadata": {},
   "outputs": [
    {
     "ename": "ValueError",
     "evalue": "Found edge starting at unknown node 'handle_set_meeting'",
     "output_type": "error",
     "traceback": [
      "\u001b[0;31m---------------------------------------------------------------------------\u001b[0m",
      "\u001b[0;31mValueError\u001b[0m                                Traceback (most recent call last)",
      "Cell \u001b[0;32mIn[6], line 59\u001b[0m\n\u001b[1;32m     56\u001b[0m agent_builder\u001b[38;5;241m.\u001b[39madd_edge(\u001b[38;5;124m\"\u001b[39m\u001b[38;5;124maggregator\u001b[39m\u001b[38;5;124m\"\u001b[39m, END)\n\u001b[1;32m     58\u001b[0m \u001b[38;5;66;03m# Compile workflow\u001b[39;00m\n\u001b[0;32m---> 59\u001b[0m personal_agent \u001b[38;5;241m=\u001b[39m \u001b[43magent_builder\u001b[49m\u001b[38;5;241;43m.\u001b[39;49m\u001b[43mcompile\u001b[49m\u001b[43m(\u001b[49m\u001b[43m)\u001b[49m\n",
      "File \u001b[0;32m~/miniforge3/envs/agent_langgraph/lib/python3.11/site-packages/langgraph/graph/state.py:539\u001b[0m, in \u001b[0;36mStateGraph.compile\u001b[0;34m(self, checkpointer, store, interrupt_before, interrupt_after, debug, name)\u001b[0m\n\u001b[1;32m    536\u001b[0m interrupt_after \u001b[38;5;241m=\u001b[39m interrupt_after \u001b[38;5;129;01mor\u001b[39;00m []\n\u001b[1;32m    538\u001b[0m \u001b[38;5;66;03m# validate the graph\u001b[39;00m\n\u001b[0;32m--> 539\u001b[0m \u001b[38;5;28;43mself\u001b[39;49m\u001b[38;5;241;43m.\u001b[39;49m\u001b[43mvalidate\u001b[49m\u001b[43m(\u001b[49m\n\u001b[1;32m    540\u001b[0m \u001b[43m    \u001b[49m\u001b[43minterrupt\u001b[49m\u001b[38;5;241;43m=\u001b[39;49m\u001b[43m(\u001b[49m\n\u001b[1;32m    541\u001b[0m \u001b[43m        \u001b[49m\u001b[43m(\u001b[49m\u001b[43minterrupt_before\u001b[49m\u001b[43m \u001b[49m\u001b[38;5;28;43;01mif\u001b[39;49;00m\u001b[43m \u001b[49m\u001b[43minterrupt_before\u001b[49m\u001b[43m \u001b[49m\u001b[38;5;241;43m!=\u001b[39;49m\u001b[43m \u001b[49m\u001b[38;5;124;43m\"\u001b[39;49m\u001b[38;5;124;43m*\u001b[39;49m\u001b[38;5;124;43m\"\u001b[39;49m\u001b[43m \u001b[49m\u001b[38;5;28;43;01melse\u001b[39;49;00m\u001b[43m \u001b[49m\u001b[43m[\u001b[49m\u001b[43m]\u001b[49m\u001b[43m)\u001b[49m\u001b[43m \u001b[49m\u001b[38;5;241;43m+\u001b[39;49m\u001b[43m \u001b[49m\u001b[43minterrupt_after\u001b[49m\n\u001b[1;32m    542\u001b[0m \u001b[43m        \u001b[49m\u001b[38;5;28;43;01mif\u001b[39;49;00m\u001b[43m \u001b[49m\u001b[43minterrupt_after\u001b[49m\u001b[43m \u001b[49m\u001b[38;5;241;43m!=\u001b[39;49m\u001b[43m \u001b[49m\u001b[38;5;124;43m\"\u001b[39;49m\u001b[38;5;124;43m*\u001b[39;49m\u001b[38;5;124;43m\"\u001b[39;49m\n\u001b[1;32m    543\u001b[0m \u001b[43m        \u001b[49m\u001b[38;5;28;43;01melse\u001b[39;49;00m\u001b[43m \u001b[49m\u001b[43m[\u001b[49m\u001b[43m]\u001b[49m\n\u001b[1;32m    544\u001b[0m \u001b[43m    \u001b[49m\u001b[43m)\u001b[49m\n\u001b[1;32m    545\u001b[0m \u001b[43m\u001b[49m\u001b[43m)\u001b[49m\n\u001b[1;32m    547\u001b[0m \u001b[38;5;66;03m# prepare output channels\u001b[39;00m\n\u001b[1;32m    548\u001b[0m output_channels \u001b[38;5;241m=\u001b[39m (\n\u001b[1;32m    549\u001b[0m     \u001b[38;5;124m\"\u001b[39m\u001b[38;5;124m__root__\u001b[39m\u001b[38;5;124m\"\u001b[39m\n\u001b[1;32m    550\u001b[0m     \u001b[38;5;28;01mif\u001b[39;00m \u001b[38;5;28mlen\u001b[39m(\u001b[38;5;28mself\u001b[39m\u001b[38;5;241m.\u001b[39mschemas[\u001b[38;5;28mself\u001b[39m\u001b[38;5;241m.\u001b[39moutput]) \u001b[38;5;241m==\u001b[39m \u001b[38;5;241m1\u001b[39m\n\u001b[0;32m   (...)\u001b[0m\n\u001b[1;32m    556\u001b[0m     ]\n\u001b[1;32m    557\u001b[0m )\n",
      "File \u001b[0;32m~/miniforge3/envs/agent_langgraph/lib/python3.11/site-packages/langgraph/graph/graph.py:374\u001b[0m, in \u001b[0;36mGraph.validate\u001b[0;34m(self, interrupt)\u001b[0m\n\u001b[1;32m    372\u001b[0m \u001b[38;5;28;01mfor\u001b[39;00m source \u001b[38;5;129;01min\u001b[39;00m all_sources:\n\u001b[1;32m    373\u001b[0m     \u001b[38;5;28;01mif\u001b[39;00m source \u001b[38;5;129;01mnot\u001b[39;00m \u001b[38;5;129;01min\u001b[39;00m \u001b[38;5;28mself\u001b[39m\u001b[38;5;241m.\u001b[39mnodes \u001b[38;5;129;01mand\u001b[39;00m source \u001b[38;5;241m!=\u001b[39m START:\n\u001b[0;32m--> 374\u001b[0m         \u001b[38;5;28;01mraise\u001b[39;00m \u001b[38;5;167;01mValueError\u001b[39;00m(\u001b[38;5;124mf\u001b[39m\u001b[38;5;124m\"\u001b[39m\u001b[38;5;124mFound edge starting at unknown node \u001b[39m\u001b[38;5;124m'\u001b[39m\u001b[38;5;132;01m{\u001b[39;00msource\u001b[38;5;132;01m}\u001b[39;00m\u001b[38;5;124m'\u001b[39m\u001b[38;5;124m\"\u001b[39m)\n\u001b[1;32m    376\u001b[0m \u001b[38;5;28;01mif\u001b[39;00m START \u001b[38;5;129;01mnot\u001b[39;00m \u001b[38;5;129;01min\u001b[39;00m all_sources:\n\u001b[1;32m    377\u001b[0m     \u001b[38;5;28;01mraise\u001b[39;00m \u001b[38;5;167;01mValueError\u001b[39;00m(\n\u001b[1;32m    378\u001b[0m         \u001b[38;5;124m\"\u001b[39m\u001b[38;5;124mGraph must have an entrypoint: add at least one edge from START to another node\u001b[39m\u001b[38;5;124m\"\u001b[39m\n\u001b[1;32m    379\u001b[0m     )\n",
      "\u001b[0;31mValueError\u001b[0m: Found edge starting at unknown node 'handle_set_meeting'"
     ]
    }
   ],
   "source": [
    "# Conditional edge function to route to the appropriate node\n",
    "def route_decision(state: State):\n",
    "    \"\"\"\n",
    "    return only the next step name\n",
    "    \"\"\"\n",
    "    return state[\"decision\"]\n",
    "\n",
    "\n",
    "# the aggregator\n",
    "def aggregator(state: State):\n",
    "    \"\"\"Aggregate and refine the output\"\"\"\n",
    "\n",
    "    # for now, only logging\n",
    "    logger.info(\"aggregator: Aggregating outputs...\")\n",
    "\n",
    "    # would need to work on state output\n",
    "\n",
    "# Build workflow graph\n",
    "agent_builder = StateGraph(State)\n",
    "\n",
    "# create the nodes with logic\n",
    "meetings_info = MeetingsInfo()\n",
    "places_info = PlacesInfo()\n",
    "not_defined = NotDefined()\n",
    "set_meeting = SetMeeting()\n",
    "\n",
    "# Add nodes\n",
    "agent_builder.add_node(\"meetings_info\", meetings_info)\n",
    "agent_builder.add_node(\"places_info\", places_info)\n",
    "agent_builder.add_node(\"not_defined\", not_defined)\n",
    "agent_builder.add_node(\"set_meeting\", set_meeting)\n",
    "\n",
    "\n",
    "agent_builder.add_node(\"aggregator\", aggregator)\n",
    "agent_builder.add_node(\"router\", router.route)\n",
    "\n",
    "# Add edges to connect nodes\n",
    "agent_builder.add_edge(START, \"router\")\n",
    "\n",
    "agent_builder.add_conditional_edges(\n",
    "    \"router\",\n",
    "    route_decision,\n",
    "    {  # Name returned by route_decision : Name of next node to visit\n",
    "        \"places_info\": \"places_info\",\n",
    "        \"meetings_info\": \"meetings_info\",\n",
    "        \"set_meeting\": \"set_meeting\",\n",
    "        \"not_defined\": \"not_defined\",\n",
    "    },\n",
    ")\n",
    "\n",
    "agent_builder.add_edge(\"places_info\", \"aggregator\")\n",
    "agent_builder.add_edge(\"meetings_info\", \"aggregator\")\n",
    "agent_builder.add_edge(\"not_defined\", \"aggregator\")\n",
    "agent_builder.add_edge(\"set_meeting\", \"aggregator\")\n",
    "\n",
    "agent_builder.add_edge(\"aggregator\", END)\n",
    "\n",
    "# Compile workflow\n",
    "personal_agent = agent_builder.compile()"
   ]
  },
  {
   "cell_type": "code",
   "execution_count": null,
   "id": "6d7c9d2f-5210-4f27-9935-1baecf21e1f0",
   "metadata": {},
   "outputs": [],
   "source": [
    "# Show the workflow\n",
    "display(Image(personal_agent.get_graph().draw_mermaid_png()))"
   ]
  },
  {
   "cell_type": "markdown",
   "id": "1d540561-5bae-4384-8422-771f70a633fc",
   "metadata": {},
   "source": [
    "### Tests"
   ]
  },
  {
   "cell_type": "code",
   "execution_count": null,
   "id": "c0b9a0c5-a02b-4b96-88b7-3a0f8a4f8407",
   "metadata": {},
   "outputs": [],
   "source": [
    "# function to simplify the tests\n",
    "def test_workflow(query: str):\n",
    "    state = personal_agent.invoke({\"input\": query})\n",
    "\n",
    "    return state[\"output\"], state[\"output_tool\"]"
   ]
  },
  {
   "cell_type": "markdown",
   "id": "ae500b64-2a6f-458b-a17d-ceba9bafb619",
   "metadata": {},
   "source": [
    "### Meeting info"
   ]
  },
  {
   "cell_type": "code",
   "execution_count": null,
   "id": "ef2c0dee-2df0-4b1f-89c0-f10d78f5913e",
   "metadata": {},
   "outputs": [],
   "source": [
    "query = \"\"\"Give me all the free slot for 2025-02-26\"\"\"\n",
    "\n",
    "outcome, output_tool = test_workflow(query)\n",
    "\n",
    "# output tool enable to adapt the way the output is shown\n",
    "if output_tool == \"meetings_info\":\n",
    "    print(\"\")\n",
    "    print(\"Free meetings slots found:\")\n",
    "    print(outcome)"
   ]
  },
  {
   "cell_type": "code",
   "execution_count": null,
   "id": "2dd267f9-0037-4715-82f9-176fd93fe7e7",
   "metadata": {},
   "outputs": [],
   "source": [
    "query = \"\"\"Show me the free slot for 2025-03-09\"\"\"\n",
    "\n",
    "outcome, output_tool = test_workflow(query)\n",
    "\n",
    "# output tool enable to adapt the way the output is shown\n",
    "if output_tool == \"meetings_info\":\n",
    "    print(\"\")\n",
    "    print(\"Free meetings slots found:\")\n",
    "    print(outcome)"
   ]
  },
  {
   "cell_type": "code",
   "execution_count": null,
   "id": "b9c578f0-91f9-4db3-92ae-0c2bfa293c83",
   "metadata": {},
   "outputs": [],
   "source": [
    "query = \"\"\"Give me all the available slot from 2025-03-08 to 2025-03-09\"\"\"\n",
    "\n",
    "outcome, output_tool = test_workflow(query)\n",
    "\n",
    "# output tool enable to adapt the way the output is shown\n",
    "if output_tool == \"meetings_info\":\n",
    "    print(\"\")\n",
    "    print(\"Free meetings slots found:\")\n",
    "    print(outcome)"
   ]
  },
  {
   "cell_type": "markdown",
   "id": "2da2660d-c202-4f2d-b662-fb0ee5f8268c",
   "metadata": {},
   "source": [
    "### Places info"
   ]
  },
  {
   "cell_type": "code",
   "execution_count": null,
   "id": "cb8b6ff1-f9ed-411a-882b-8b167b26c38e",
   "metadata": {},
   "outputs": [],
   "source": [
    "query = \"Give me the list of the top 10 chinese restaurants in Rome\"\n",
    "\n",
    "outcome, output_tool = test_workflow(query)\n",
    "\n",
    "if output_tool == \"places_info\":\n",
    "    display(Markdown(outcome))"
   ]
  },
  {
   "cell_type": "markdown",
   "id": "1947eb62-b9ba-4483-a4f7-7d122f816638",
   "metadata": {},
   "source": [
    "### Not defined"
   ]
  },
  {
   "cell_type": "code",
   "execution_count": null,
   "id": "cab514a7-c4b8-46f1-817e-76d0e3a576fe",
   "metadata": {},
   "outputs": [],
   "source": [
    "query = \"I want to ask something but I don't have a clear idea\"\n",
    "\n",
    "outcome, output_tool = test_workflow(query)\n",
    "\n",
    "if output_tool == \"not_defined\":\n",
    "    display(Markdown(outcome))"
   ]
  },
  {
   "cell_type": "code",
   "execution_count": null,
   "id": "f0d5acd8-8cf2-4fe9-abca-fd7b6fde5091",
   "metadata": {},
   "outputs": [],
   "source": []
  }
 ],
 "metadata": {
  "kernelspec": {
   "display_name": "Python 3 (ipykernel)",
   "language": "python",
   "name": "python3"
  },
  "language_info": {
   "codemirror_mode": {
    "name": "ipython",
    "version": 3
   },
   "file_extension": ".py",
   "mimetype": "text/x-python",
   "name": "python",
   "nbconvert_exporter": "python",
   "pygments_lexer": "ipython3",
   "version": "3.11.0"
  }
 },
 "nbformat": 4,
 "nbformat_minor": 5
}
