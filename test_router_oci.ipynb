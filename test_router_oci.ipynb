{
 "cells": [
  {
   "cell_type": "markdown",
   "id": "d3352c79-186b-4d7b-814b-051156d42be9",
   "metadata": {},
   "source": [
    "## Routing agent with OCI GenAI and LangGraph\n",
    "\n",
    "Implements an example of agent with router and final aggregator using **LangGraph** and **OCI GenAI**"
   ]
  },
  {
   "cell_type": "code",
   "execution_count": 1,
   "id": "da1a09a4-ec0a-46cb-9052-d5d50771cf34",
   "metadata": {},
   "outputs": [],
   "source": [
    "# Schema for structured output\n",
    "from pydantic import BaseModel, Field\n",
    "from typing_extensions import Literal, TypedDict\n",
    "from langchain_core.messages import HumanMessage, SystemMessage\n",
    "from IPython.display import Image, display, Markdown\n",
    "\n",
    "from oci_models import create_model_for_routing\n",
    "from prompts_library import PROMPT_ROUTER\n",
    "from utils import get_console_logger"
   ]
  },
  {
   "cell_type": "code",
   "execution_count": 2,
   "id": "8910cebb-5eec-4db1-b634-7b157db6bf45",
   "metadata": {},
   "outputs": [],
   "source": [
    "DEBUG = False\n",
    "\n",
    "logger = get_console_logger()\n",
    "\n",
    "# this is the model for the router\n",
    "# we're using Command-r-plus\n",
    "llm_router = create_model_for_routing()"
   ]
  },
  {
   "cell_type": "code",
   "execution_count": 3,
   "id": "ca5fa0be-3a8a-4068-80b0-680662bdae0a",
   "metadata": {},
   "outputs": [],
   "source": [
    "#\n",
    "# tools definition\n",
    "#\n",
    "# State: the input to the agent\n",
    "class State(TypedDict):\n",
    "    \"\"\"\n",
    "    Defines the internal state of the agent\n",
    "    \"\"\"\n",
    "\n",
    "    input: str\n",
    "    decision: str\n",
    "    output: str"
   ]
  },
  {
   "cell_type": "code",
   "execution_count": 4,
   "id": "858e1a41-23f8-47e9-b7d3-24163015bb30",
   "metadata": {},
   "outputs": [],
   "source": [
    "#\n",
    "# json schema for the output of the Router\n",
    "#\n",
    "json_route = {\n",
    "    \"title\": \"Route\",\n",
    "    \"description\": \"Defines the output of the routing logic\",\n",
    "    \"type\": \"object\",\n",
    "    \"properties\": {\n",
    "        \"step\": {\n",
    "            \"description\": \"The next step in the routing process\",\n",
    "            \"type\": \"string\",\n",
    "            \"enum\": [\n",
    "                \"generate_sql\",\n",
    "                \"not_allowed\",\n",
    "                \"analyze_data\",\n",
    "                \"answer_directly\",\n",
    "                \"not_defined\",\n",
    "            ],\n",
    "        }\n",
    "    },\n",
    "    \"required\": [\"step\"],\n",
    "}\n",
    "\n",
    "# Augment the LLM with schema for structured output\n",
    "router = llm_router.with_structured_output(json_route)"
   ]
  },
  {
   "cell_type": "markdown",
   "id": "0787aee9-b3ec-4390-a345-f2e1606e6c32",
   "metadata": {},
   "source": [
    "### define the router"
   ]
  },
  {
   "cell_type": "code",
   "execution_count": 5,
   "id": "0eb2aef4-b385-4dc9-af71-d514ee3a881c",
   "metadata": {},
   "outputs": [],
   "source": [
    "def llm_call_router(state: State):\n",
    "    \"\"\"Route the input to the appropriate node\"\"\"\n",
    "\n",
    "    logger.info(\"Called router...\")\n",
    "\n",
    "    if DEBUG:\n",
    "        logger.info(\"Input: %s\", state[\"input\"])\n",
    "\n",
    "    # Run the augmented LLM with structured output to serve as routing logic\n",
    "    decision = router.invoke(\n",
    "        [\n",
    "            # with sys_msg have troubles\n",
    "            # this doesn't work SystemMessage(PROMPT_ROUTER),\n",
    "            HumanMessage(content=PROMPT_ROUTER + state[\"input\"]),\n",
    "        ]\n",
    "    )\n",
    "\n",
    "    if DEBUG:\n",
    "        logger.info(\"Decision: %s\", decision)\n",
    "\n",
    "    return {\"decision\": decision[\"step\"]}"
   ]
  },
  {
   "cell_type": "markdown",
   "id": "cd7009da-fa46-4825-8b98-7455667de430",
   "metadata": {},
   "source": [
    "## let's test the router"
   ]
  },
  {
   "cell_type": "code",
   "execution_count": 6,
   "id": "7321cc7e-1ec2-4f98-b597-fad46499b2de",
   "metadata": {},
   "outputs": [
    {
     "name": "stderr",
     "output_type": "stream",
     "text": [
      "2025-02-07 17:17:40,405 - Called router...\n"
     ]
    },
    {
     "name": "stdout",
     "output_type": "stream",
     "text": [
      "\n"
     ]
    },
    {
     "name": "stderr",
     "output_type": "stream",
     "text": [
      "2025-02-07 17:17:41,769 - Called router...\n"
     ]
    },
    {
     "name": "stdout",
     "output_type": "stream",
     "text": [
      "The request is:  analyze the data and create a report\n",
      "{'decision': 'analyze_data'}\n",
      "\n"
     ]
    },
    {
     "name": "stderr",
     "output_type": "stream",
     "text": [
      "2025-02-07 17:17:42,802 - Called router...\n"
     ]
    },
    {
     "name": "stdout",
     "output_type": "stream",
     "text": [
      "The request is:  I want all the orders made in Italy in 2024\n",
      "{'decision': 'generate_sql'}\n",
      "\n"
     ]
    },
    {
     "name": "stderr",
     "output_type": "stream",
     "text": [
      "2025-02-07 17:17:43,828 - Called router...\n"
     ]
    },
    {
     "name": "stdout",
     "output_type": "stream",
     "text": [
      "The request is:  Who is Enrico Fermi\n",
      "{'decision': 'answer_directly'}\n",
      "\n",
      "The request is:  drop table sales\n",
      "{'decision': 'not_allowed'}\n"
     ]
    }
   ],
   "source": [
    "# test the router\n",
    "def test_router(query: str):\n",
    "    # set the input\n",
    "    state_test = State(input=query)\n",
    "\n",
    "    outcome = llm_call_router(state_test)\n",
    "\n",
    "    return outcome\n",
    "\n",
    "\n",
    "queries = [\n",
    "    \"analyze the data and create a report\",\n",
    "    \"I want all the orders made in Italy in 2024\",\n",
    "    \"Who is Enrico Fermi\",\n",
    "    \"drop table sales\",\n",
    "]\n",
    "\n",
    "for query in queries:\n",
    "    try:\n",
    "        print(\"\")\n",
    "        outcome = test_router(query)\n",
    "\n",
    "        print(\"The request is: \", query)\n",
    "        print(outcome)\n",
    "    except Exception as e:\n",
    "        print(e)"
   ]
  },
  {
   "cell_type": "markdown",
   "id": "37082f1e-6463-49f8-96ab-0f17d74186ea",
   "metadata": {},
   "source": [
    "#### in another notebook we wil show how to plug this router in a LangGraph agent"
   ]
  },
  {
   "cell_type": "code",
   "execution_count": null,
   "id": "1b74caa1-ad4d-4c5e-96f2-a4e57a368416",
   "metadata": {},
   "outputs": [],
   "source": []
  }
 ],
 "metadata": {
  "kernelspec": {
   "display_name": "Python 3 (ipykernel)",
   "language": "python",
   "name": "python3"
  },
  "language_info": {
   "codemirror_mode": {
    "name": "ipython",
    "version": 3
   },
   "file_extension": ".py",
   "mimetype": "text/x-python",
   "name": "python",
   "nbconvert_exporter": "python",
   "pygments_lexer": "ipython3",
   "version": "3.11.0"
  }
 },
 "nbformat": 4,
 "nbformat_minor": 5
}
