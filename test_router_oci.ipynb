{
 "cells": [
  {
   "cell_type": "markdown",
   "id": "d3352c79-186b-4d7b-814b-051156d42be9",
   "metadata": {},
   "source": [
    "## Routing agent with OCI GenAI and LangGraph\n",
    "\n",
    "* Implements an example of router based on OCI Cohere.\n",
    "* can be used with LangGraph"
   ]
  },
  {
   "cell_type": "code",
   "execution_count": 1,
   "id": "da1a09a4-ec0a-46cb-9052-d5d50771cf34",
   "metadata": {},
   "outputs": [],
   "source": [
    "from typing_extensions import Literal, TypedDict\n",
    "from router import Router"
   ]
  },
  {
   "cell_type": "code",
   "execution_count": 3,
   "id": "1f2f4b34-05c2-440e-b785-dbcc7e4c74a9",
   "metadata": {},
   "outputs": [],
   "source": [
    "# State: the input to the agent\n",
    "class State(TypedDict):\n",
    "    \"\"\"\n",
    "    Defines the internal state of the agent\n",
    "    \"\"\"\n",
    "\n",
    "    input: str\n",
    "    decision: str\n",
    "    output: str"
   ]
  },
  {
   "cell_type": "code",
   "execution_count": 2,
   "id": "8910cebb-5eec-4db1-b634-7b157db6bf45",
   "metadata": {},
   "outputs": [],
   "source": [
    "router = Router()"
   ]
  },
  {
   "cell_type": "markdown",
   "id": "cd7009da-fa46-4825-8b98-7455667de430",
   "metadata": {},
   "source": [
    "## test the router"
   ]
  },
  {
   "cell_type": "code",
   "execution_count": 4,
   "id": "7321cc7e-1ec2-4f98-b597-fad46499b2de",
   "metadata": {},
   "outputs": [
    {
     "name": "stderr",
     "output_type": "stream",
     "text": [
      "2025-02-07 20:33:46,210 - Called router...\n"
     ]
    },
    {
     "name": "stdout",
     "output_type": "stream",
     "text": [
      "\n"
     ]
    },
    {
     "name": "stderr",
     "output_type": "stream",
     "text": [
      "2025-02-07 20:33:48,134 - Decision: {'step': 'analyze_data'}\n",
      "2025-02-07 20:33:48,136 - Called router...\n"
     ]
    },
    {
     "name": "stdout",
     "output_type": "stream",
     "text": [
      "The request is:  analyze the data and create a report\n",
      "Router decision is:  {'decision': 'analyze_data'}\n",
      "\n"
     ]
    },
    {
     "name": "stderr",
     "output_type": "stream",
     "text": [
      "2025-02-07 20:33:49,165 - Decision: {'step': 'generate_sql'}\n",
      "2025-02-07 20:33:49,168 - Called router...\n"
     ]
    },
    {
     "name": "stdout",
     "output_type": "stream",
     "text": [
      "The request is:  I want all the orders made in Italy in 2024\n",
      "Router decision is:  {'decision': 'generate_sql'}\n",
      "\n"
     ]
    },
    {
     "name": "stderr",
     "output_type": "stream",
     "text": [
      "2025-02-07 20:33:50,195 - Decision: {'step': 'answer_directly'}\n",
      "2025-02-07 20:33:50,197 - Called router...\n"
     ]
    },
    {
     "name": "stdout",
     "output_type": "stream",
     "text": [
      "The request is:  Who is Enrico Fermi\n",
      "Router decision is:  {'decision': 'answer_directly'}\n",
      "\n"
     ]
    },
    {
     "name": "stderr",
     "output_type": "stream",
     "text": [
      "2025-02-07 20:33:51,238 - Decision: {'step': 'not_allowed'}\n"
     ]
    },
    {
     "name": "stdout",
     "output_type": "stream",
     "text": [
      "The request is:  drop table sales\n",
      "Router decision is:  {'decision': 'not_allowed'}\n"
     ]
    }
   ],
   "source": [
    "# test the router\n",
    "def test_router(query: str):\n",
    "    # set the input\n",
    "    state_test = State(input=query)\n",
    "\n",
    "    outcome = router.route(state_test)\n",
    "\n",
    "    return outcome\n",
    "\n",
    "\n",
    "queries = [\n",
    "    \"analyze the data and create a report\",\n",
    "    \"I want all the orders made in Italy in 2024\",\n",
    "    \"Who is Enrico Fermi\",\n",
    "    \"drop table sales\",\n",
    "]\n",
    "\n",
    "for query in queries:\n",
    "    try:\n",
    "        print(\"\")\n",
    "        outcome = test_router(query)\n",
    "\n",
    "        print(\"The request is: \", query)\n",
    "        print(\"Router decision is: \", outcome)\n",
    "    except Exception as e:\n",
    "        print(e)"
   ]
  },
  {
   "cell_type": "markdown",
   "id": "37082f1e-6463-49f8-96ab-0f17d74186ea",
   "metadata": {},
   "source": [
    "#### in another notebook we wil show how to plug this router in a LangGraph agent"
   ]
  },
  {
   "cell_type": "code",
   "execution_count": null,
   "id": "1b74caa1-ad4d-4c5e-96f2-a4e57a368416",
   "metadata": {},
   "outputs": [],
   "source": []
  }
 ],
 "metadata": {
  "kernelspec": {
   "display_name": "Python 3 (ipykernel)",
   "language": "python",
   "name": "python3"
  },
  "language_info": {
   "codemirror_mode": {
    "name": "ipython",
    "version": 3
   },
   "file_extension": ".py",
   "mimetype": "text/x-python",
   "name": "python",
   "nbconvert_exporter": "python",
   "pygments_lexer": "ipython3",
   "version": "3.11.0"
  }
 },
 "nbformat": 4,
 "nbformat_minor": 5
}
