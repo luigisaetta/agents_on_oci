{
 "cells": [
  {
   "cell_type": "code",
   "execution_count": 1,
   "id": "3c88ea74-2fa1-40be-bd5b-8dfbd5dbc64c",
   "metadata": {},
   "outputs": [],
   "source": [
    "import json\n",
    "from oci_rag_agent import OCIRAGAgent\n",
    "\n",
    "from config_reader import ConfigReader\n",
    "from config_private import AGENT_ID"
   ]
  },
  {
   "cell_type": "code",
   "execution_count": 2,
   "id": "5dea6360-3c58-4091-9b2b-dae070b6afd8",
   "metadata": {},
   "outputs": [],
   "source": [
    "def print_response(_response):\n",
    "    \"\"\"\n",
    "    Print the response\n",
    "    \"\"\"\n",
    "    if not SHOULD_STREAM:\n",
    "        print(_response)\n",
    "    else:\n",
    "        # manage streaming\n",
    "        for event in _response.data.events():\n",
    "            if \"message\" in json.loads(event.data):\n",
    "                # print(event.data)\n",
    "                print(json.loads(event.data)[\"message\"][\"content\"][\"text\"])"
   ]
  },
  {
   "cell_type": "code",
   "execution_count": 3,
   "id": "53d37e01-4a96-4177-b97c-144827d67f57",
   "metadata": {},
   "outputs": [],
   "source": [
    "SHOULD_STREAM = False\n",
    "\n",
    "config_reader = ConfigReader(\"config.toml\")\n",
    "ENDPOINT = config_reader.find_key(\"rag_endpoint\")"
   ]
  },
  {
   "cell_type": "code",
   "execution_count": 4,
   "id": "78a67ef9-ace2-4058-b487-4a4135055e34",
   "metadata": {},
   "outputs": [
    {
     "name": "stderr",
     "output_type": "stream",
     "text": [
      "2025-02-10 16:28:13,510 - Session created, ID: ocid1.genaiagentsession.oc1.us-chicago-1.amaaaaaa7mjirbaa7tu3unwz73hxqdtka555bvbv472zriwtp3otrj64wh3q\n",
      "2025-02-10 16:28:13,512 - \n"
     ]
    }
   ],
   "source": [
    "rag_client = OCIRAGAgent(AGENT_ID, ENDPOINT, should_stream=SHOULD_STREAM)\n",
    "\n",
    "sess_id = rag_client.create_session()"
   ]
  },
  {
   "cell_type": "code",
   "execution_count": 5,
   "id": "31eb24f1-d774-41c5-9765-90371e4a1a20",
   "metadata": {},
   "outputs": [
    {
     "name": "stdout",
     "output_type": "stream",
     "text": [
      "Question:  Make a detailed and complete list of known side effects of tachipirin\n",
      "\n",
      "Known side effects of Tachipirin include:\n",
      "- Allergic reactions, such as skin rash with itching (hives), swelling of the throat (laryngeal edema), and angioedema (swelling of the hands, feet, ankles, face, lips, tongue, and/or throat).\n",
      "- Severe allergic reaction (anaphylactic shock).\n",
      "- Insufficient data to establish frequency: Effects on the blood, including liver dysfunction, hepatitis, and Gilbert's syndrome.\n",
      "- Anemia (red blood cell destruction).\n",
      "- High doses and/or prolonged use: Renal and blood alterations, which can be severe.\n",
      "- Interactions with other medications: Increased risk of liver damage and potential coma or death when combined with alcohol or other medications that affect liver function.\n",
      "\n",
      "\n",
      "Question:  Can it be used on children?\n",
      "\n",
      "Yes, Tachipirina can be administered to children. The dosage is based on the child's weight and age. For children weighing between 3.2 kg and 12 kg, the recommended dosage is one 250 mg suppository, which can be repeated after 8 hours if needed, but not exceeding 3 suppositories in 24 hours. For children weighing between 11 kg and 40 kg, the dosage is one 500 mg suppository, which can be repeated after 6 to 8 hours if necessary, but not exceeding 3 to 4 suppositories in a 24-hour period. It is important to consult a doctor or pharmacist for precise dosage instructions and to ensure it is suitable for the child's specific needs.\n",
      "\n",
      "\n",
      "Question:  Puoi fare una lista degli effetti collaterali, in italiano?\n",
      "\n",
      "I seguenti effetti collaterali sono stati segnalati in pazienti che assumono Tachipirina:\n",
      "- Reazioni allergiche: arrossamenti della pelle accompagnati da prurito (orticaria), gonfiore della gola (edema della laringe), gonfiore di mani, piedi, caviglie, viso, labbra, lingua e/o gola (angioedema) e shock anafilattico (grave reazione allergica).\n",
      "- Effetti sul sangue: riduzione del numero di piastrine (trombocitopenia), globuli bianchi (leucopenia/agranulocitosi) e livelli di emoglobina (anemia).\n",
      "- Vertigini e reazioni a livello di stomaco e intestino.\n",
      "- Funzionalità anomala del fegato e infiammazione del fegato (epatite).\n",
      "\n",
      "Inoltre, l'uso di dosi elevate o per periodi prolungati può causare alterazioni gravi a carico del rene e del sangue. È importante consultare un medico prima di assumere Tachipirina se si soffre di malattie renali o epatiche.\n",
      "\n",
      "\n"
     ]
    }
   ],
   "source": [
    "questions = [\n",
    "    \"Make a detailed and complete list of known side effects of tachipirin\",\n",
    "    \"Can it be used on children?\",\n",
    "    \"Puoi fare una lista degli effetti collaterali, in italiano?\",\n",
    "]\n",
    "\n",
    "for question in questions:\n",
    "    print(\"Question: \", question)\n",
    "    print(\"\")\n",
    "\n",
    "    response = rag_client.chat(sess_id, question)\n",
    "\n",
    "    print_response(response)\n",
    "    print(\"\")\n",
    "    print(\"\")"
   ]
  },
  {
   "cell_type": "code",
   "execution_count": 6,
   "id": "86248c9c-e633-44cb-954a-3f9b5cefbaad",
   "metadata": {},
   "outputs": [
    {
     "name": "stderr",
     "output_type": "stream",
     "text": [
      "2025-02-10 16:28:39,709 - Session closed, ID: ocid1.genaiagentsession.oc1.us-chicago-1.amaaaaaa7mjirbaa7tu3unwz73hxqdtka555bvbv472zriwtp3otrj64wh3q\n",
      "2025-02-10 16:28:39,710 - \n"
     ]
    }
   ],
   "source": [
    "rag_client.close_session(sess_id)"
   ]
  },
  {
   "cell_type": "code",
   "execution_count": null,
   "id": "9ff4e857-1a5d-48fc-9c2a-0cd65131e4b9",
   "metadata": {},
   "outputs": [],
   "source": []
  }
 ],
 "metadata": {
  "kernelspec": {
   "display_name": "Python 3 (ipykernel)",
   "language": "python",
   "name": "python3"
  },
  "language_info": {
   "codemirror_mode": {
    "name": "ipython",
    "version": 3
   },
   "file_extension": ".py",
   "mimetype": "text/x-python",
   "name": "python",
   "nbconvert_exporter": "python",
   "pygments_lexer": "ipython3",
   "version": "3.11.0"
  }
 },
 "nbformat": 4,
 "nbformat_minor": 5
}
